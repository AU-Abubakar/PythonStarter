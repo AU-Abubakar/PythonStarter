{
 "cells": [
  {
   "cell_type": "markdown",
   "metadata": {},
   "source": [
    "# Classification\n",
    "\n",
    "Let's explore a classification Task\n",
    "\n",
    "## The Data\n",
    "\n",
    "### Breast cancer wisconsin (diagnostic) dataset\n",
    "--------------------------------------------\n",
    "\n",
    "This is a copy of UCI ML Breast Cancer Wisconsin (Diagnostic) datasets.\n",
    "https://goo.gl/U2Uwz2\n"
   ]
  },
  {
   "cell_type": "code",
   "execution_count": 1,
   "metadata": {},
   "outputs": [],
   "source": [
    "import pandas as pd\n",
    "import numpy as np"
   ]
  },
  {
   "cell_type": "code",
   "execution_count": 2,
   "metadata": {},
   "outputs": [],
   "source": [
    "df = pd.read_csv('./data/cancer_classification.csv')"
   ]
  },
  {
   "cell_type": "code",
   "execution_count": 3,
   "metadata": {},
   "outputs": [
    {
     "data": {
      "text/html": [
       "<div>\n",
       "<style scoped>\n",
       "    .dataframe tbody tr th:only-of-type {\n",
       "        vertical-align: middle;\n",
       "    }\n",
       "\n",
       "    .dataframe tbody tr th {\n",
       "        vertical-align: top;\n",
       "    }\n",
       "\n",
       "    .dataframe thead th {\n",
       "        text-align: right;\n",
       "    }\n",
       "</style>\n",
       "<table border=\"1\" class=\"dataframe\">\n",
       "  <thead>\n",
       "    <tr style=\"text-align: right;\">\n",
       "      <th></th>\n",
       "      <th>mean radius</th>\n",
       "      <th>mean texture</th>\n",
       "      <th>mean perimeter</th>\n",
       "      <th>mean area</th>\n",
       "      <th>mean smoothness</th>\n",
       "      <th>mean compactness</th>\n",
       "      <th>mean concavity</th>\n",
       "      <th>mean concave points</th>\n",
       "      <th>mean symmetry</th>\n",
       "      <th>mean fractal dimension</th>\n",
       "      <th>...</th>\n",
       "      <th>worst texture</th>\n",
       "      <th>worst perimeter</th>\n",
       "      <th>worst area</th>\n",
       "      <th>worst smoothness</th>\n",
       "      <th>worst compactness</th>\n",
       "      <th>worst concavity</th>\n",
       "      <th>worst concave points</th>\n",
       "      <th>worst symmetry</th>\n",
       "      <th>worst fractal dimension</th>\n",
       "      <th>benign_0__mal_1</th>\n",
       "    </tr>\n",
       "  </thead>\n",
       "  <tbody>\n",
       "    <tr>\n",
       "      <th>568</th>\n",
       "      <td>7.76</td>\n",
       "      <td>24.54</td>\n",
       "      <td>47.92</td>\n",
       "      <td>181.0</td>\n",
       "      <td>0.05263</td>\n",
       "      <td>0.04362</td>\n",
       "      <td>0.0</td>\n",
       "      <td>0.0</td>\n",
       "      <td>0.1587</td>\n",
       "      <td>0.05884</td>\n",
       "      <td>...</td>\n",
       "      <td>30.37</td>\n",
       "      <td>59.16</td>\n",
       "      <td>268.6</td>\n",
       "      <td>0.08996</td>\n",
       "      <td>0.06444</td>\n",
       "      <td>0.0</td>\n",
       "      <td>0.0</td>\n",
       "      <td>0.2871</td>\n",
       "      <td>0.07039</td>\n",
       "      <td>1</td>\n",
       "    </tr>\n",
       "  </tbody>\n",
       "</table>\n",
       "<p>1 rows × 31 columns</p>\n",
       "</div>"
      ],
      "text/plain": [
       "     mean radius  mean texture  mean perimeter  mean area  mean smoothness  \\\n",
       "568         7.76         24.54           47.92      181.0          0.05263   \n",
       "\n",
       "     mean compactness  mean concavity  mean concave points  mean symmetry  \\\n",
       "568           0.04362             0.0                  0.0         0.1587   \n",
       "\n",
       "     mean fractal dimension  ...  worst texture  worst perimeter  worst area  \\\n",
       "568                 0.05884  ...          30.37            59.16       268.6   \n",
       "\n",
       "     worst smoothness  worst compactness  worst concavity  \\\n",
       "568           0.08996            0.06444              0.0   \n",
       "\n",
       "     worst concave points  worst symmetry  worst fractal dimension  \\\n",
       "568                   0.0          0.2871                  0.07039   \n",
       "\n",
       "     benign_0__mal_1  \n",
       "568                1  \n",
       "\n",
       "[1 rows x 31 columns]"
      ]
     },
     "execution_count": 3,
     "metadata": {},
     "output_type": "execute_result"
    }
   ],
   "source": [
    "df.tail(1)"
   ]
  },
  {
   "cell_type": "code",
   "execution_count": 4,
   "metadata": {},
   "outputs": [
    {
     "name": "stdout",
     "output_type": "stream",
     "text": [
      "<class 'pandas.core.frame.DataFrame'>\n",
      "RangeIndex: 569 entries, 0 to 568\n",
      "Data columns (total 31 columns):\n",
      " #   Column                   Non-Null Count  Dtype  \n",
      "---  ------                   --------------  -----  \n",
      " 0   mean radius              569 non-null    float64\n",
      " 1   mean texture             569 non-null    float64\n",
      " 2   mean perimeter           569 non-null    float64\n",
      " 3   mean area                569 non-null    float64\n",
      " 4   mean smoothness          569 non-null    float64\n",
      " 5   mean compactness         569 non-null    float64\n",
      " 6   mean concavity           569 non-null    float64\n",
      " 7   mean concave points      569 non-null    float64\n",
      " 8   mean symmetry            569 non-null    float64\n",
      " 9   mean fractal dimension   569 non-null    float64\n",
      " 10  radius error             569 non-null    float64\n",
      " 11  texture error            569 non-null    float64\n",
      " 12  perimeter error          569 non-null    float64\n",
      " 13  area error               569 non-null    float64\n",
      " 14  smoothness error         569 non-null    float64\n",
      " 15  compactness error        569 non-null    float64\n",
      " 16  concavity error          569 non-null    float64\n",
      " 17  concave points error     569 non-null    float64\n",
      " 18  symmetry error           569 non-null    float64\n",
      " 19  fractal dimension error  569 non-null    float64\n",
      " 20  worst radius             569 non-null    float64\n",
      " 21  worst texture            569 non-null    float64\n",
      " 22  worst perimeter          569 non-null    float64\n",
      " 23  worst area               569 non-null    float64\n",
      " 24  worst smoothness         569 non-null    float64\n",
      " 25  worst compactness        569 non-null    float64\n",
      " 26  worst concavity          569 non-null    float64\n",
      " 27  worst concave points     569 non-null    float64\n",
      " 28  worst symmetry           569 non-null    float64\n",
      " 29  worst fractal dimension  569 non-null    float64\n",
      " 30  benign_0__mal_1          569 non-null    int64  \n",
      "dtypes: float64(30), int64(1)\n",
      "memory usage: 137.9 KB\n"
     ]
    }
   ],
   "source": [
    "df.info()"
   ]
  },
  {
   "cell_type": "code",
   "execution_count": 5,
   "metadata": {},
   "outputs": [
    {
     "data": {
      "text/html": [
       "<div>\n",
       "<style scoped>\n",
       "    .dataframe tbody tr th:only-of-type {\n",
       "        vertical-align: middle;\n",
       "    }\n",
       "\n",
       "    .dataframe tbody tr th {\n",
       "        vertical-align: top;\n",
       "    }\n",
       "\n",
       "    .dataframe thead th {\n",
       "        text-align: right;\n",
       "    }\n",
       "</style>\n",
       "<table border=\"1\" class=\"dataframe\">\n",
       "  <thead>\n",
       "    <tr style=\"text-align: right;\">\n",
       "      <th></th>\n",
       "      <th>mean radius</th>\n",
       "      <th>mean texture</th>\n",
       "      <th>mean perimeter</th>\n",
       "      <th>mean area</th>\n",
       "      <th>mean smoothness</th>\n",
       "      <th>mean compactness</th>\n",
       "      <th>mean concavity</th>\n",
       "      <th>mean concave points</th>\n",
       "      <th>mean symmetry</th>\n",
       "      <th>mean fractal dimension</th>\n",
       "      <th>...</th>\n",
       "      <th>worst texture</th>\n",
       "      <th>worst perimeter</th>\n",
       "      <th>worst area</th>\n",
       "      <th>worst smoothness</th>\n",
       "      <th>worst compactness</th>\n",
       "      <th>worst concavity</th>\n",
       "      <th>worst concave points</th>\n",
       "      <th>worst symmetry</th>\n",
       "      <th>worst fractal dimension</th>\n",
       "      <th>benign_0__mal_1</th>\n",
       "    </tr>\n",
       "  </thead>\n",
       "  <tbody>\n",
       "    <tr>\n",
       "      <th>count</th>\n",
       "      <td>569.000000</td>\n",
       "      <td>569.000000</td>\n",
       "      <td>569.000000</td>\n",
       "      <td>569.000000</td>\n",
       "      <td>569.000000</td>\n",
       "      <td>569.000000</td>\n",
       "      <td>569.000000</td>\n",
       "      <td>569.000000</td>\n",
       "      <td>569.000000</td>\n",
       "      <td>569.000000</td>\n",
       "      <td>...</td>\n",
       "      <td>569.000000</td>\n",
       "      <td>569.000000</td>\n",
       "      <td>569.000000</td>\n",
       "      <td>569.000000</td>\n",
       "      <td>569.000000</td>\n",
       "      <td>569.000000</td>\n",
       "      <td>569.000000</td>\n",
       "      <td>569.000000</td>\n",
       "      <td>569.000000</td>\n",
       "      <td>569.000000</td>\n",
       "    </tr>\n",
       "    <tr>\n",
       "      <th>mean</th>\n",
       "      <td>14.127292</td>\n",
       "      <td>19.289649</td>\n",
       "      <td>91.969033</td>\n",
       "      <td>654.889104</td>\n",
       "      <td>0.096360</td>\n",
       "      <td>0.104341</td>\n",
       "      <td>0.088799</td>\n",
       "      <td>0.048919</td>\n",
       "      <td>0.181162</td>\n",
       "      <td>0.062798</td>\n",
       "      <td>...</td>\n",
       "      <td>25.677223</td>\n",
       "      <td>107.261213</td>\n",
       "      <td>880.583128</td>\n",
       "      <td>0.132369</td>\n",
       "      <td>0.254265</td>\n",
       "      <td>0.272188</td>\n",
       "      <td>0.114606</td>\n",
       "      <td>0.290076</td>\n",
       "      <td>0.083946</td>\n",
       "      <td>0.627417</td>\n",
       "    </tr>\n",
       "    <tr>\n",
       "      <th>std</th>\n",
       "      <td>3.524049</td>\n",
       "      <td>4.301036</td>\n",
       "      <td>24.298981</td>\n",
       "      <td>351.914129</td>\n",
       "      <td>0.014064</td>\n",
       "      <td>0.052813</td>\n",
       "      <td>0.079720</td>\n",
       "      <td>0.038803</td>\n",
       "      <td>0.027414</td>\n",
       "      <td>0.007060</td>\n",
       "      <td>...</td>\n",
       "      <td>6.146258</td>\n",
       "      <td>33.602542</td>\n",
       "      <td>569.356993</td>\n",
       "      <td>0.022832</td>\n",
       "      <td>0.157336</td>\n",
       "      <td>0.208624</td>\n",
       "      <td>0.065732</td>\n",
       "      <td>0.061867</td>\n",
       "      <td>0.018061</td>\n",
       "      <td>0.483918</td>\n",
       "    </tr>\n",
       "    <tr>\n",
       "      <th>min</th>\n",
       "      <td>6.981000</td>\n",
       "      <td>9.710000</td>\n",
       "      <td>43.790000</td>\n",
       "      <td>143.500000</td>\n",
       "      <td>0.052630</td>\n",
       "      <td>0.019380</td>\n",
       "      <td>0.000000</td>\n",
       "      <td>0.000000</td>\n",
       "      <td>0.106000</td>\n",
       "      <td>0.049960</td>\n",
       "      <td>...</td>\n",
       "      <td>12.020000</td>\n",
       "      <td>50.410000</td>\n",
       "      <td>185.200000</td>\n",
       "      <td>0.071170</td>\n",
       "      <td>0.027290</td>\n",
       "      <td>0.000000</td>\n",
       "      <td>0.000000</td>\n",
       "      <td>0.156500</td>\n",
       "      <td>0.055040</td>\n",
       "      <td>0.000000</td>\n",
       "    </tr>\n",
       "    <tr>\n",
       "      <th>25%</th>\n",
       "      <td>11.700000</td>\n",
       "      <td>16.170000</td>\n",
       "      <td>75.170000</td>\n",
       "      <td>420.300000</td>\n",
       "      <td>0.086370</td>\n",
       "      <td>0.064920</td>\n",
       "      <td>0.029560</td>\n",
       "      <td>0.020310</td>\n",
       "      <td>0.161900</td>\n",
       "      <td>0.057700</td>\n",
       "      <td>...</td>\n",
       "      <td>21.080000</td>\n",
       "      <td>84.110000</td>\n",
       "      <td>515.300000</td>\n",
       "      <td>0.116600</td>\n",
       "      <td>0.147200</td>\n",
       "      <td>0.114500</td>\n",
       "      <td>0.064930</td>\n",
       "      <td>0.250400</td>\n",
       "      <td>0.071460</td>\n",
       "      <td>0.000000</td>\n",
       "    </tr>\n",
       "    <tr>\n",
       "      <th>50%</th>\n",
       "      <td>13.370000</td>\n",
       "      <td>18.840000</td>\n",
       "      <td>86.240000</td>\n",
       "      <td>551.100000</td>\n",
       "      <td>0.095870</td>\n",
       "      <td>0.092630</td>\n",
       "      <td>0.061540</td>\n",
       "      <td>0.033500</td>\n",
       "      <td>0.179200</td>\n",
       "      <td>0.061540</td>\n",
       "      <td>...</td>\n",
       "      <td>25.410000</td>\n",
       "      <td>97.660000</td>\n",
       "      <td>686.500000</td>\n",
       "      <td>0.131300</td>\n",
       "      <td>0.211900</td>\n",
       "      <td>0.226700</td>\n",
       "      <td>0.099930</td>\n",
       "      <td>0.282200</td>\n",
       "      <td>0.080040</td>\n",
       "      <td>1.000000</td>\n",
       "    </tr>\n",
       "    <tr>\n",
       "      <th>75%</th>\n",
       "      <td>15.780000</td>\n",
       "      <td>21.800000</td>\n",
       "      <td>104.100000</td>\n",
       "      <td>782.700000</td>\n",
       "      <td>0.105300</td>\n",
       "      <td>0.130400</td>\n",
       "      <td>0.130700</td>\n",
       "      <td>0.074000</td>\n",
       "      <td>0.195700</td>\n",
       "      <td>0.066120</td>\n",
       "      <td>...</td>\n",
       "      <td>29.720000</td>\n",
       "      <td>125.400000</td>\n",
       "      <td>1084.000000</td>\n",
       "      <td>0.146000</td>\n",
       "      <td>0.339100</td>\n",
       "      <td>0.382900</td>\n",
       "      <td>0.161400</td>\n",
       "      <td>0.317900</td>\n",
       "      <td>0.092080</td>\n",
       "      <td>1.000000</td>\n",
       "    </tr>\n",
       "    <tr>\n",
       "      <th>max</th>\n",
       "      <td>28.110000</td>\n",
       "      <td>39.280000</td>\n",
       "      <td>188.500000</td>\n",
       "      <td>2501.000000</td>\n",
       "      <td>0.163400</td>\n",
       "      <td>0.345400</td>\n",
       "      <td>0.426800</td>\n",
       "      <td>0.201200</td>\n",
       "      <td>0.304000</td>\n",
       "      <td>0.097440</td>\n",
       "      <td>...</td>\n",
       "      <td>49.540000</td>\n",
       "      <td>251.200000</td>\n",
       "      <td>4254.000000</td>\n",
       "      <td>0.222600</td>\n",
       "      <td>1.058000</td>\n",
       "      <td>1.252000</td>\n",
       "      <td>0.291000</td>\n",
       "      <td>0.663800</td>\n",
       "      <td>0.207500</td>\n",
       "      <td>1.000000</td>\n",
       "    </tr>\n",
       "  </tbody>\n",
       "</table>\n",
       "<p>8 rows × 31 columns</p>\n",
       "</div>"
      ],
      "text/plain": [
       "       mean radius  mean texture  mean perimeter    mean area  \\\n",
       "count   569.000000    569.000000      569.000000   569.000000   \n",
       "mean     14.127292     19.289649       91.969033   654.889104   \n",
       "std       3.524049      4.301036       24.298981   351.914129   \n",
       "min       6.981000      9.710000       43.790000   143.500000   \n",
       "25%      11.700000     16.170000       75.170000   420.300000   \n",
       "50%      13.370000     18.840000       86.240000   551.100000   \n",
       "75%      15.780000     21.800000      104.100000   782.700000   \n",
       "max      28.110000     39.280000      188.500000  2501.000000   \n",
       "\n",
       "       mean smoothness  mean compactness  mean concavity  mean concave points  \\\n",
       "count       569.000000        569.000000      569.000000           569.000000   \n",
       "mean          0.096360          0.104341        0.088799             0.048919   \n",
       "std           0.014064          0.052813        0.079720             0.038803   \n",
       "min           0.052630          0.019380        0.000000             0.000000   \n",
       "25%           0.086370          0.064920        0.029560             0.020310   \n",
       "50%           0.095870          0.092630        0.061540             0.033500   \n",
       "75%           0.105300          0.130400        0.130700             0.074000   \n",
       "max           0.163400          0.345400        0.426800             0.201200   \n",
       "\n",
       "       mean symmetry  mean fractal dimension  ...  worst texture  \\\n",
       "count     569.000000              569.000000  ...     569.000000   \n",
       "mean        0.181162                0.062798  ...      25.677223   \n",
       "std         0.027414                0.007060  ...       6.146258   \n",
       "min         0.106000                0.049960  ...      12.020000   \n",
       "25%         0.161900                0.057700  ...      21.080000   \n",
       "50%         0.179200                0.061540  ...      25.410000   \n",
       "75%         0.195700                0.066120  ...      29.720000   \n",
       "max         0.304000                0.097440  ...      49.540000   \n",
       "\n",
       "       worst perimeter   worst area  worst smoothness  worst compactness  \\\n",
       "count       569.000000   569.000000        569.000000         569.000000   \n",
       "mean        107.261213   880.583128          0.132369           0.254265   \n",
       "std          33.602542   569.356993          0.022832           0.157336   \n",
       "min          50.410000   185.200000          0.071170           0.027290   \n",
       "25%          84.110000   515.300000          0.116600           0.147200   \n",
       "50%          97.660000   686.500000          0.131300           0.211900   \n",
       "75%         125.400000  1084.000000          0.146000           0.339100   \n",
       "max         251.200000  4254.000000          0.222600           1.058000   \n",
       "\n",
       "       worst concavity  worst concave points  worst symmetry  \\\n",
       "count       569.000000            569.000000      569.000000   \n",
       "mean          0.272188              0.114606        0.290076   \n",
       "std           0.208624              0.065732        0.061867   \n",
       "min           0.000000              0.000000        0.156500   \n",
       "25%           0.114500              0.064930        0.250400   \n",
       "50%           0.226700              0.099930        0.282200   \n",
       "75%           0.382900              0.161400        0.317900   \n",
       "max           1.252000              0.291000        0.663800   \n",
       "\n",
       "       worst fractal dimension  benign_0__mal_1  \n",
       "count               569.000000       569.000000  \n",
       "mean                  0.083946         0.627417  \n",
       "std                   0.018061         0.483918  \n",
       "min                   0.055040         0.000000  \n",
       "25%                   0.071460         0.000000  \n",
       "50%                   0.080040         1.000000  \n",
       "75%                   0.092080         1.000000  \n",
       "max                   0.207500         1.000000  \n",
       "\n",
       "[8 rows x 31 columns]"
      ]
     },
     "execution_count": 5,
     "metadata": {},
     "output_type": "execute_result"
    }
   ],
   "source": [
    "df.describe()"
   ]
  },
  {
   "cell_type": "markdown",
   "metadata": {},
   "source": [
    "## EDA"
   ]
  },
  {
   "cell_type": "code",
   "execution_count": 6,
   "metadata": {},
   "outputs": [],
   "source": [
    "import seaborn as sns\n",
    "import matplotlib.pyplot as plt"
   ]
  },
  {
   "cell_type": "code",
   "execution_count": 7,
   "metadata": {},
   "outputs": [
    {
     "data": {
      "text/plain": [
       "<AxesSubplot:xlabel='benign_0__mal_1', ylabel='count'>"
      ]
     },
     "execution_count": 7,
     "metadata": {},
     "output_type": "execute_result"
    },
    {
     "data": {
      "image/png": "[encoded data removed]",
      "text/plain": [
       "<Figure size 432x288 with 1 Axes>"
      ]
     },
     "metadata": {
      "needs_background": "light"
     },
     "output_type": "display_data"
    }
   ],
   "source": [
    "sns.countplot(x='benign_0__mal_1',data=df)"
   ]
  },
  {
   "cell_type": "code",
   "execution_count": 8,
   "metadata": {},
   "outputs": [
    {
     "data": {
      "text/plain": [
       "<AxesSubplot:>"
      ]
     },
     "execution_count": 8,
     "metadata": {},
     "output_type": "execute_result"
    },
    {
     "data": {
      "image/png": "[encoded data removed]",
      "text/plain": [
       "<Figure size 432x288 with 2 Axes>"
      ]
     },
     "metadata": {
      "needs_background": "light"
     },
     "output_type": "display_data"
    }
   ],
   "source": [
    "sns.heatmap(df.corr())"
   ]
  },
  {
   "cell_type": "code",
   "execution_count": 9,
   "metadata": {},
   "outputs": [
    {
     "data": {
      "text/plain": [
       "worst concave points      -0.793566\n",
       "worst perimeter           -0.782914\n",
       "mean concave points       -0.776614\n",
       "worst radius              -0.776454\n",
       "mean perimeter            -0.742636\n",
       "worst area                -0.733825\n",
       "mean radius               -0.730029\n",
       "mean area                 -0.708984\n",
       "mean concavity            -0.696360\n",
       "worst concavity           -0.659610\n",
       "mean compactness          -0.596534\n",
       "worst compactness         -0.590998\n",
       "radius error              -0.567134\n",
       "perimeter error           -0.556141\n",
       "area error                -0.548236\n",
       "worst texture             -0.456903\n",
       "worst smoothness          -0.421465\n",
       "worst symmetry            -0.416294\n",
       "mean texture              -0.415185\n",
       "concave points error      -0.408042\n",
       "mean smoothness           -0.358560\n",
       "mean symmetry             -0.330499\n",
       "worst fractal dimension   -0.323872\n",
       "compactness error         -0.292999\n",
       "concavity error           -0.253730\n",
       "fractal dimension error   -0.077972\n",
       "symmetry error             0.006522\n",
       "texture error              0.008303\n",
       "mean fractal dimension     0.012838\n",
       "smoothness error           0.067016\n",
       "benign_0__mal_1            1.000000\n",
       "Name: benign_0__mal_1, dtype: float64"
      ]
     },
     "execution_count": 9,
     "metadata": {},
     "output_type": "execute_result"
    }
   ],
   "source": [
    "df.corr()['benign_0__mal_1'].sort_values()"
   ]
  },
  {
   "cell_type": "code",
   "execution_count": 10,
   "metadata": {},
   "outputs": [
    {
     "data": {
      "text/plain": [
       "<AxesSubplot:>"
      ]
     },
     "execution_count": 10,
     "metadata": {},
     "output_type": "execute_result"
    },
    {
     "data": {
      "image/png": "[encoded data removed]",
      "text/plain": [
       "<Figure size 432x288 with 1 Axes>"
      ]
     },
     "metadata": {
      "needs_background": "light"
     },
     "output_type": "display_data"
    }
   ],
   "source": [
    "df.corr()['benign_0__mal_1'].sort_values().plot(kind='bar')"
   ]
  },
  {
   "cell_type": "code",
   "execution_count": 11,
   "metadata": {},
   "outputs": [
    {
     "data": {
      "text/plain": [
       "<AxesSubplot:>"
      ]
     },
     "execution_count": 11,
     "metadata": {},
     "output_type": "execute_result"
    },
    {
     "data": {
      "image/png": "[encoded data removed]",
      "text/plain": [
       "<Figure size 432x288 with 1 Axes>"
      ]
     },
     "metadata": {
      "needs_background": "light"
     },
     "output_type": "display_data"
    }
   ],
   "source": [
    "df.corr()['benign_0__mal_1'][:-1].sort_values().plot(kind='bar')"
   ]
  },
  {
   "cell_type": "markdown",
   "metadata": {},
   "source": [
    "## Train Test Split"
   ]
  },
  {
   "cell_type": "code",
   "execution_count": 12,
   "metadata": {},
   "outputs": [
    {
     "data": {
      "text/plain": [
       "569"
      ]
     },
     "execution_count": 12,
     "metadata": {},
     "output_type": "execute_result"
    }
   ],
   "source": [
    "X = df.drop('benign_0__mal_1',axis=1).values\n",
    "y = df['benign_0__mal_1'].values\n",
    "len(y)"
   ]
  },
  {
   "cell_type": "code",
   "execution_count": 13,
   "metadata": {},
   "outputs": [],
   "source": [
    "from sklearn.model_selection import train_test_split"
   ]
  },
  {
   "cell_type": "code",
   "execution_count": 14,
   "metadata": {},
   "outputs": [],
   "source": [
    "X_train, X_test, y_train, y_test = train_test_split(X,y,test_size=0.25,random_state=101)"
   ]
  },
  {
   "cell_type": "markdown",
   "metadata": {},
   "source": [
    "\n",
    "## Scaling Data"
   ]
  },
  {
   "cell_type": "code",
   "execution_count": 15,
   "metadata": {},
   "outputs": [],
   "source": [
    "from sklearn.preprocessing import MinMaxScaler"
   ]
  },
  {
   "cell_type": "code",
   "execution_count": 16,
   "metadata": {},
   "outputs": [],
   "source": [
    "scaler = MinMaxScaler()"
   ]
  },
  {
   "cell_type": "code",
   "execution_count": 17,
   "metadata": {},
   "outputs": [
    {
     "data": {
      "text/plain": [
       "MinMaxScaler()"
      ]
     },
     "execution_count": 17,
     "metadata": {},
     "output_type": "execute_result"
    }
   ],
   "source": [
    "scaler.fit(X_train)"
   ]
  },
  {
   "cell_type": "code",
   "execution_count": 18,
   "metadata": {},
   "outputs": [],
   "source": [
    "X_train = scaler.transform(X_train)\n",
    "X_test = scaler.transform(X_test)"
   ]
  },
  {
   "cell_type": "markdown",
   "metadata": {},
   "source": [
    "## Creating the Model\n",
    "                      "
   ]
  },
  {
   "cell_type": "code",
   "execution_count": 19,
   "metadata": {},
   "outputs": [],
   "source": [
    "import tensorflow as tf\n",
    "from tensorflow.keras.models import Sequential\n",
    "from tensorflow.keras.layers import Dense, Activation,Dropout"
   ]
  },
  {
   "cell_type": "code",
   "execution_count": 20,
   "metadata": {},
   "outputs": [
    {
     "data": {
      "text/plain": [
       "(426, 30)"
      ]
     },
     "execution_count": 20,
     "metadata": {},
     "output_type": "execute_result"
    }
   ],
   "source": [
    "X_train.shape"
   ]
  },
  {
   "cell_type": "code",
   "execution_count": 21,
   "metadata": {},
   "outputs": [],
   "source": [
    "model = Sequential()\n",
    "\n",
    "# https://stats.stackexchange.com/questions/181/how-to-choose-the-number-of-hidden-layers-and-nodes-in-a-feedforward-neural-netw\n",
    "\n",
    "model.add(Dense(units=30,activation='relu'))\n",
    "\n",
    "model.add(Dense(units=15,activation='relu'))\n",
    "\n",
    "\n",
    "model.add(Dense(units=1,activation='sigmoid'))\n",
    "\n",
    "# For a binary classification problem\n",
    "model.compile(loss='binary_crossentropy', optimizer='adam')"
   ]
  },
  {
   "cell_type": "markdown",
   "metadata": {},
   "source": [
    "## Training the Model \n",
    "\n",
    "### Example One: Choosing too many epochs and overfitting!"
   ]
  },
  {
   "cell_type": "code",
   "execution_count": 39,
   "metadata": {},
   "outputs": [
    {
     "name": "stdout",
     "output_type": "stream",
     "text": [
      "Epoch 1/100\n",
      "14/14 [==============================] - 0s 7ms/step - loss: 0.1094 - val_loss: 0.1008\n",
      "Epoch 2/100\n",
      "14/14 [==============================] - 0s 3ms/step - loss: 0.0762 - val_loss: 0.0968\n",
      "Epoch 3/100\n",
      "14/14 [==============================] - 0s 4ms/step - loss: 0.0907 - val_loss: 0.0923\n",
      "Epoch 4/100\n",
      "14/14 [==============================] - 0s 3ms/step - loss: 0.0758 - val_loss: 0.0933\n",
      "Epoch 5/100\n",
      "14/14 [==============================] - 0s 4ms/step - loss: 0.0744 - val_loss: 0.1074\n",
      "Epoch 6/100\n",
      "14/14 [==============================] - 0s 3ms/step - loss: 0.0689 - val_loss: 0.0925\n",
      "Epoch 7/100\n",
      "14/14 [==============================] - 0s 4ms/step - loss: 0.0779 - val_loss: 0.0872\n",
      "Epoch 8/100\n",
      "14/14 [==============================] - 0s 3ms/step - loss: 0.0927 - val_loss: 0.1013\n",
      "Epoch 9/100\n",
      "14/14 [==============================] - 0s 3ms/step - loss: 0.0696 - val_loss: 0.0971\n",
      "Epoch 10/100\n",
      "14/14 [==============================] - 0s 3ms/step - loss: 0.0872 - val_loss: 0.1029\n",
      "Epoch 11/100\n",
      "14/14 [==============================] - 0s 4ms/step - loss: 0.0755 - val_loss: 0.1008\n",
      "Epoch 12/100\n",
      "14/14 [==============================] - 0s 3ms/step - loss: 0.0927 - val_loss: 0.0964\n",
      "Epoch 13/100\n",
      "14/14 [==============================] - 0s 3ms/step - loss: 0.0748 - val_loss: 0.1090\n",
      "Epoch 14/100\n",
      "14/14 [==============================] - 0s 3ms/step - loss: 0.0860 - val_loss: 0.0888\n",
      "Epoch 15/100\n",
      "14/14 [==============================] - 0s 3ms/step - loss: 0.0950 - val_loss: 0.0908\n",
      "Epoch 16/100\n",
      "14/14 [==============================] - 0s 3ms/step - loss: 0.0612 - val_loss: 0.1174\n",
      "Epoch 17/100\n",
      "14/14 [==============================] - 0s 4ms/step - loss: 0.0922 - val_loss: 0.0979\n",
      "Epoch 18/100\n",
      "14/14 [==============================] - 0s 3ms/step - loss: 0.0723 - val_loss: 0.0910\n",
      "Epoch 19/100\n",
      "14/14 [==============================] - 0s 4ms/step - loss: 0.1000 - val_loss: 0.1254\n",
      "Epoch 20/100\n",
      "14/14 [==============================] - 0s 11ms/step - loss: 0.0768 - val_loss: 0.0886\n",
      "Epoch 21/100\n",
      "14/14 [==============================] - 0s 4ms/step - loss: 0.0901 - val_loss: 0.0894\n",
      "Epoch 22/100\n",
      "14/14 [==============================] - 0s 3ms/step - loss: 0.0838 - val_loss: 0.1069\n",
      "Epoch 23/100\n",
      "14/14 [==============================] - 0s 3ms/step - loss: 0.0788 - val_loss: 0.0903\n",
      "Epoch 24/100\n",
      "14/14 [==============================] - 0s 3ms/step - loss: 0.0745 - val_loss: 0.0898\n",
      "Epoch 25/100\n",
      "14/14 [==============================] - 0s 3ms/step - loss: 0.0750 - val_loss: 0.0984\n",
      "Epoch 26/100\n",
      "14/14 [==============================] - 0s 3ms/step - loss: 0.0790 - val_loss: 0.1144\n",
      "Epoch 27/100\n",
      "14/14 [==============================] - 0s 3ms/step - loss: 0.0835 - val_loss: 0.0872\n",
      "Epoch 28/100\n",
      "14/14 [==============================] - 0s 3ms/step - loss: 0.0818 - val_loss: 0.0941\n",
      "Epoch 29/100\n",
      "14/14 [==============================] - 0s 3ms/step - loss: 0.0834 - val_loss: 0.0927\n",
      "Epoch 30/100\n",
      "14/14 [==============================] - 0s 3ms/step - loss: 0.0834 - val_loss: 0.0990\n",
      "Epoch 31/100\n",
      "14/14 [==============================] - 0s 4ms/step - loss: 0.0770 - val_loss: 0.0964\n",
      "Epoch 32/100\n",
      "14/14 [==============================] - 0s 3ms/step - loss: 0.0709 - val_loss: 0.0931\n",
      "Epoch 33/100\n",
      "14/14 [==============================] - 0s 3ms/step - loss: 0.0915 - val_loss: 0.0848\n",
      "Epoch 34/100\n",
      "14/14 [==============================] - 0s 3ms/step - loss: 0.0722 - val_loss: 0.0982\n",
      "Epoch 35/100\n",
      "14/14 [==============================] - 0s 4ms/step - loss: 0.0773 - val_loss: 0.0999\n",
      "Epoch 36/100\n",
      "14/14 [==============================] - 0s 4ms/step - loss: 0.0755 - val_loss: 0.0872\n",
      "Epoch 37/100\n",
      "14/14 [==============================] - 0s 4ms/step - loss: 0.0803 - val_loss: 0.0914\n",
      "Epoch 38/100\n",
      "14/14 [==============================] - 0s 3ms/step - loss: 0.0623 - val_loss: 0.0893\n",
      "Epoch 39/100\n",
      "14/14 [==============================] - 0s 4ms/step - loss: 0.0736 - val_loss: 0.0967\n",
      "Epoch 40/100\n",
      "14/14 [==============================] - 0s 3ms/step - loss: 0.0579 - val_loss: 0.1009\n",
      "Epoch 41/100\n",
      "14/14 [==============================] - 0s 4ms/step - loss: 0.0581 - val_loss: 0.0880\n",
      "Epoch 42/100\n",
      "14/14 [==============================] - 0s 3ms/step - loss: 0.0935 - val_loss: 0.0957\n",
      "Epoch 43/100\n",
      "14/14 [==============================] - 0s 3ms/step - loss: 0.0706 - val_loss: 0.1107\n",
      "Epoch 44/100\n",
      "14/14 [==============================] - 0s 3ms/step - loss: 0.0819 - val_loss: 0.1069\n",
      "Epoch 45/100\n",
      "14/14 [==============================] - 0s 3ms/step - loss: 0.0669 - val_loss: 0.1115\n",
      "Epoch 46/100\n",
      "14/14 [==============================] - 0s 4ms/step - loss: 0.0749 - val_loss: 0.1153\n",
      "Epoch 47/100\n",
      "14/14 [==============================] - 0s 3ms/step - loss: 0.0870 - val_loss: 0.1129\n",
      "Epoch 48/100\n",
      "14/14 [==============================] - 0s 3ms/step - loss: 0.0727 - val_loss: 0.1145\n",
      "Epoch 49/100\n",
      "14/14 [==============================] - 0s 3ms/step - loss: 0.0696 - val_loss: 0.0913\n",
      "Epoch 50/100\n",
      "14/14 [==============================] - 0s 3ms/step - loss: 0.0681 - val_loss: 0.0923\n",
      "Epoch 51/100\n",
      "14/14 [==============================] - 0s 3ms/step - loss: 0.0721 - val_loss: 0.1067\n",
      "Epoch 52/100\n",
      "14/14 [==============================] - 0s 3ms/step - loss: 0.0720 - val_loss: 0.0955\n",
      "Epoch 53/100\n",
      "14/14 [==============================] - 0s 3ms/step - loss: 0.0710 - val_loss: 0.1036\n",
      "Epoch 54/100\n",
      "14/14 [==============================] - 0s 3ms/step - loss: 0.0854 - val_loss: 0.0936\n",
      "Epoch 55/100\n",
      "14/14 [==============================] - 0s 3ms/step - loss: 0.0603 - val_loss: 0.1003\n",
      "Epoch 56/100\n",
      "14/14 [==============================] - 0s 3ms/step - loss: 0.0700 - val_loss: 0.0899\n",
      "Epoch 57/100\n",
      "14/14 [==============================] - 0s 3ms/step - loss: 0.0807 - val_loss: 0.1078\n",
      "Epoch 58/100\n",
      "14/14 [==============================] - 0s 3ms/step - loss: 0.0858 - val_loss: 0.0942\n",
      "Epoch 59/100\n",
      "14/14 [==============================] - 0s 3ms/step - loss: 0.0542 - val_loss: 0.1011\n",
      "Epoch 60/100\n",
      "14/14 [==============================] - 0s 4ms/step - loss: 0.0684 - val_loss: 0.0924\n",
      "Epoch 61/100\n",
      "14/14 [==============================] - 0s 3ms/step - loss: 0.0683 - val_loss: 0.0952\n",
      "Epoch 62/100\n",
      "14/14 [==============================] - 0s 3ms/step - loss: 0.0605 - val_loss: 0.0867\n",
      "Epoch 63/100\n",
      "14/14 [==============================] - 0s 3ms/step - loss: 0.0837 - val_loss: 0.1038\n",
      "Epoch 64/100\n",
      "14/14 [==============================] - 0s 3ms/step - loss: 0.0680 - val_loss: 0.1012\n",
      "Epoch 65/100\n",
      "14/14 [==============================] - 0s 3ms/step - loss: 0.0672 - val_loss: 0.0848\n",
      "Epoch 66/100\n",
      "14/14 [==============================] - 0s 3ms/step - loss: 0.0626 - val_loss: 0.0896\n",
      "Epoch 67/100\n",
      "14/14 [==============================] - 0s 3ms/step - loss: 0.0660 - val_loss: 0.0969\n",
      "Epoch 68/100\n",
      "14/14 [==============================] - 0s 3ms/step - loss: 0.0721 - val_loss: 0.0981\n",
      "Epoch 69/100\n",
      "14/14 [==============================] - 0s 4ms/step - loss: 0.0615 - val_loss: 0.1081\n",
      "Epoch 70/100\n",
      "14/14 [==============================] - 0s 11ms/step - loss: 0.0641 - val_loss: 0.0908\n",
      "Epoch 71/100\n",
      "14/14 [==============================] - 0s 4ms/step - loss: 0.0781 - val_loss: 0.0968\n",
      "Epoch 72/100\n",
      "14/14 [==============================] - 0s 3ms/step - loss: 0.0669 - val_loss: 0.1145\n",
      "Epoch 73/100\n",
      "14/14 [==============================] - 0s 3ms/step - loss: 0.0655 - val_loss: 0.0863\n",
      "Epoch 74/100\n",
      "14/14 [==============================] - 0s 4ms/step - loss: 0.0741 - val_loss: 0.1004\n",
      "Epoch 75/100\n",
      "14/14 [==============================] - 0s 4ms/step - loss: 0.0642 - val_loss: 0.0978\n",
      "Epoch 76/100\n",
      "14/14 [==============================] - 0s 3ms/step - loss: 0.0666 - val_loss: 0.0880\n",
      "Epoch 77/100\n",
      "14/14 [==============================] - 0s 4ms/step - loss: 0.0684 - val_loss: 0.0931\n",
      "Epoch 78/100\n",
      "14/14 [==============================] - 0s 4ms/step - loss: 0.0603 - val_loss: 0.1016\n",
      "Epoch 79/100\n",
      "14/14 [==============================] - 0s 4ms/step - loss: 0.0803 - val_loss: 0.1001\n",
      "Epoch 80/100\n",
      "14/14 [==============================] - 0s 5ms/step - loss: 0.0659 - val_loss: 0.1037\n",
      "Epoch 81/100\n",
      "14/14 [==============================] - 0s 4ms/step - loss: 0.0763 - val_loss: 0.1028\n",
      "Epoch 82/100\n",
      "14/14 [==============================] - 0s 4ms/step - loss: 0.0623 - val_loss: 0.0914\n",
      "Epoch 83/100\n",
      "14/14 [==============================] - 0s 4ms/step - loss: 0.0640 - val_loss: 0.0956\n",
      "Epoch 84/100\n",
      "14/14 [==============================] - 0s 4ms/step - loss: 0.0623 - val_loss: 0.1100\n",
      "Epoch 85/100\n",
      "14/14 [==============================] - 0s 4ms/step - loss: 0.0722 - val_loss: 0.0944\n",
      "Epoch 86/100\n",
      "14/14 [==============================] - 0s 4ms/step - loss: 0.0615 - val_loss: 0.0934\n",
      "Epoch 87/100\n",
      "14/14 [==============================] - 0s 4ms/step - loss: 0.0684 - val_loss: 0.1034\n",
      "Epoch 88/100\n",
      "14/14 [==============================] - 0s 4ms/step - loss: 0.0513 - val_loss: 0.1233\n",
      "Epoch 89/100\n",
      "14/14 [==============================] - 0s 4ms/step - loss: 0.0625 - val_loss: 0.1096\n",
      "Epoch 90/100\n",
      "14/14 [==============================] - 0s 3ms/step - loss: 0.0657 - val_loss: 0.0977\n",
      "Epoch 91/100\n",
      "14/14 [==============================] - 0s 5ms/step - loss: 0.0673 - val_loss: 0.0964\n",
      "Epoch 92/100\n",
      "14/14 [==============================] - 0s 4ms/step - loss: 0.0572 - val_loss: 0.0991\n",
      "Epoch 93/100\n",
      "14/14 [==============================] - 0s 4ms/step - loss: 0.0675 - val_loss: 0.1178\n",
      "Epoch 94/100\n",
      "14/14 [==============================] - 0s 4ms/step - loss: 0.0879 - val_loss: 0.0937\n",
      "Epoch 95/100\n",
      "14/14 [==============================] - 0s 4ms/step - loss: 0.0603 - val_loss: 0.0987\n",
      "Epoch 96/100\n",
      "14/14 [==============================] - 0s 4ms/step - loss: 0.0572 - val_loss: 0.0963\n",
      "Epoch 97/100\n",
      "14/14 [==============================] - 0s 4ms/step - loss: 0.0567 - val_loss: 0.1054\n",
      "Epoch 98/100\n",
      "14/14 [==============================] - 0s 5ms/step - loss: 0.0610 - val_loss: 0.0929\n",
      "Epoch 99/100\n",
      "14/14 [==============================] - 0s 4ms/step - loss: 0.0620 - val_loss: 0.0892\n",
      "Epoch 100/100\n",
      "14/14 [==============================] - 0s 4ms/step - loss: 0.0642 - val_loss: 0.0935\n"
     ]
    },
    {
     "data": {
      "text/plain": [
       "<tensorflow.python.keras.callbacks.History at 0x7f76985bc5c0>"
      ]
     },
     "execution_count": 39,
     "metadata": {},
     "output_type": "execute_result"
    }
   ],
   "source": [
    "# https://stats.stackexchange.com/questions/164876/tradeoff-batch-size-vs-number-of-iterations-to-train-a-neural-network\n",
    "# https://datascience.stackexchange.com/questions/18414/are-there-any-rules-for-choosing-the-size-of-a-mini-batch\n",
    "\n",
    "model.fit(x=X_train, \n",
    "          y=y_train, \n",
    "          epochs=100,\n",
    "          validation_data=(X_test, y_test), verbose=1\n",
    "          )"
   ]
  },
  {
   "cell_type": "markdown",
   "metadata": {},
   "source": [
    "# model.history.history"
   ]
  },
  {
   "cell_type": "code",
   "execution_count": 23,
   "metadata": {},
   "outputs": [],
   "source": [
    "model_loss = pd.DataFrame(model.history.history)"
   ]
  },
  {
   "cell_type": "code",
   "execution_count": 24,
   "metadata": {},
   "outputs": [
    {
     "data": {
      "text/html": [
       "<div>\n",
       "<style scoped>\n",
       "    .dataframe tbody tr th:only-of-type {\n",
       "        vertical-align: middle;\n",
       "    }\n",
       "\n",
       "    .dataframe tbody tr th {\n",
       "        vertical-align: top;\n",
       "    }\n",
       "\n",
       "    .dataframe thead th {\n",
       "        text-align: right;\n",
       "    }\n",
       "</style>\n",
       "<table border=\"1\" class=\"dataframe\">\n",
       "  <thead>\n",
       "    <tr style=\"text-align: right;\">\n",
       "      <th></th>\n",
       "      <th>loss</th>\n",
       "      <th>val_loss</th>\n",
       "    </tr>\n",
       "  </thead>\n",
       "  <tbody>\n",
       "    <tr>\n",
       "      <th>0</th>\n",
       "      <td>0.679581</td>\n",
       "      <td>0.663362</td>\n",
       "    </tr>\n",
       "    <tr>\n",
       "      <th>1</th>\n",
       "      <td>0.649947</td>\n",
       "      <td>0.636173</td>\n",
       "    </tr>\n",
       "    <tr>\n",
       "      <th>2</th>\n",
       "      <td>0.621419</td>\n",
       "      <td>0.606508</td>\n",
       "    </tr>\n",
       "    <tr>\n",
       "      <th>3</th>\n",
       "      <td>0.590379</td>\n",
       "      <td>0.573500</td>\n",
       "    </tr>\n",
       "    <tr>\n",
       "      <th>4</th>\n",
       "      <td>0.557388</td>\n",
       "      <td>0.537333</td>\n",
       "    </tr>\n",
       "    <tr>\n",
       "      <th>...</th>\n",
       "      <td>...</td>\n",
       "      <td>...</td>\n",
       "    </tr>\n",
       "    <tr>\n",
       "      <th>595</th>\n",
       "      <td>0.024044</td>\n",
       "      <td>0.207886</td>\n",
       "    </tr>\n",
       "    <tr>\n",
       "      <th>596</th>\n",
       "      <td>0.024497</td>\n",
       "      <td>0.187613</td>\n",
       "    </tr>\n",
       "    <tr>\n",
       "      <th>597</th>\n",
       "      <td>0.027625</td>\n",
       "      <td>0.182099</td>\n",
       "    </tr>\n",
       "    <tr>\n",
       "      <th>598</th>\n",
       "      <td>0.022153</td>\n",
       "      <td>0.221982</td>\n",
       "    </tr>\n",
       "    <tr>\n",
       "      <th>599</th>\n",
       "      <td>0.026269</td>\n",
       "      <td>0.170013</td>\n",
       "    </tr>\n",
       "  </tbody>\n",
       "</table>\n",
       "<p>600 rows × 2 columns</p>\n",
       "</div>"
      ],
      "text/plain": [
       "         loss  val_loss\n",
       "0    0.679581  0.663362\n",
       "1    0.649947  0.636173\n",
       "2    0.621419  0.606508\n",
       "3    0.590379  0.573500\n",
       "4    0.557388  0.537333\n",
       "..        ...       ...\n",
       "595  0.024044  0.207886\n",
       "596  0.024497  0.187613\n",
       "597  0.027625  0.182099\n",
       "598  0.022153  0.221982\n",
       "599  0.026269  0.170013\n",
       "\n",
       "[600 rows x 2 columns]"
      ]
     },
     "execution_count": 24,
     "metadata": {},
     "output_type": "execute_result"
    }
   ],
   "source": [
    "model_loss"
   ]
  },
  {
   "cell_type": "code",
   "execution_count": 25,
   "metadata": {},
   "outputs": [
    {
     "data": {
      "text/plain": [
       "<AxesSubplot:>"
      ]
     },
     "execution_count": 25,
     "metadata": {},
     "output_type": "execute_result"
    },
    {
     "data": {
      "image/png": "[encoded data removed]",
      "text/plain": [
       "<Figure size 432x288 with 1 Axes>"
      ]
     },
     "metadata": {
      "needs_background": "light"
     },
     "output_type": "display_data"
    }
   ],
   "source": [
    "model_loss.plot()"
   ]
  },
  {
   "cell_type": "markdown",
   "metadata": {},
   "source": [
    "## Example Two: Early Stopping\n",
    "\n",
    "We obviously trained too much! Let's use early stopping to track the val_loss and stop training once it begins increasing too much!"
   ]
  },
  {
   "cell_type": "code",
   "execution_count": 26,
   "metadata": {},
   "outputs": [],
   "source": [
    "model = Sequential()\n",
    "model.add(Dense(units=30,activation='relu'))\n",
    "model.add(Dense(units=15,activation='relu'))\n",
    "model.add(Dense(units=1,activation='sigmoid'))\n",
    "model.compile(loss='binary_crossentropy', optimizer='adam')"
   ]
  },
  {
   "cell_type": "code",
   "execution_count": 27,
   "metadata": {},
   "outputs": [],
   "source": [
    "from tensorflow.keras.callbacks import EarlyStopping"
   ]
  },
  {
   "cell_type": "markdown",
   "metadata": {},
   "source": [
    "Stop training when a monitored quantity has stopped improving.\n",
    "\n",
    "    Arguments:\n",
    "        monitor: Quantity to be monitored.\n",
    "        min_delta: Minimum change in the monitored quantity\n",
    "            to qualify as an improvement, i.e. an absolute\n",
    "            change of less than min_delta, will count as no\n",
    "            improvement.\n",
    "        patience: Number of epochs with no improvement\n",
    "            after which training will be stopped.\n",
    "        verbose: verbosity mode.\n",
    "        mode: One of `{\"auto\", \"min\", \"max\"}`. In `min` mode,\n",
    "            training will stop when the quantity\n",
    "            monitored has stopped decreasing; in `max`\n",
    "            mode it will stop when the quantity\n",
    "            monitored has stopped increasing; in `auto`\n",
    "            mode, the direction is automatically inferred\n",
    "            from the name of the monitored quantity."
   ]
  },
  {
   "cell_type": "code",
   "execution_count": 28,
   "metadata": {},
   "outputs": [],
   "source": [
    "early_stop = EarlyStopping(monitor='val_loss', mode='min', verbose=1, patience=25)"
   ]
  },
  {
   "cell_type": "code",
   "execution_count": 29,
   "metadata": {},
   "outputs": [
    {
     "name": "stdout",
     "output_type": "stream",
     "text": [
      "Epoch 1/600\n",
      "14/14 [==============================] - 0s 8ms/step - loss: 0.6706 - val_loss: 0.6601\n",
      "Epoch 2/600\n",
      "14/14 [==============================] - 0s 3ms/step - loss: 0.6483 - val_loss: 0.6322\n",
      "Epoch 3/600\n",
      "14/14 [==============================] - 0s 3ms/step - loss: 0.6312 - val_loss: 0.5997\n",
      "Epoch 4/600\n",
      "14/14 [==============================] - 0s 3ms/step - loss: 0.5890 - val_loss: 0.5469\n",
      "Epoch 5/600\n",
      "14/14 [==============================] - 0s 3ms/step - loss: 0.5374 - val_loss: 0.4993\n",
      "Epoch 6/600\n",
      "14/14 [==============================] - 0s 3ms/step - loss: 0.4858 - val_loss: 0.4520\n",
      "Epoch 7/600\n",
      "14/14 [==============================] - 0s 3ms/step - loss: 0.4368 - val_loss: 0.4066\n",
      "Epoch 8/600\n",
      "14/14 [==============================] - 0s 3ms/step - loss: 0.4191 - val_loss: 0.3651\n",
      "Epoch 9/600\n",
      "14/14 [==============================] - 0s 3ms/step - loss: 0.3725 - val_loss: 0.3284\n",
      "Epoch 10/600\n",
      "14/14 [==============================] - 0s 3ms/step - loss: 0.3204 - val_loss: 0.2989\n",
      "Epoch 11/600\n",
      "14/14 [==============================] - 0s 3ms/step - loss: 0.3043 - val_loss: 0.2803\n",
      "Epoch 12/600\n",
      "14/14 [==============================] - 0s 3ms/step - loss: 0.2773 - val_loss: 0.2561\n",
      "Epoch 13/600\n",
      "14/14 [==============================] - 0s 3ms/step - loss: 0.2676 - val_loss: 0.2439\n",
      "Epoch 14/600\n",
      "14/14 [==============================] - 0s 3ms/step - loss: 0.2813 - val_loss: 0.2283\n",
      "Epoch 15/600\n",
      "14/14 [==============================] - 0s 3ms/step - loss: 0.2430 - val_loss: 0.2123\n",
      "Epoch 16/600\n",
      "14/14 [==============================] - 0s 3ms/step - loss: 0.2271 - val_loss: 0.2004\n",
      "Epoch 17/600\n",
      "14/14 [==============================] - 0s 3ms/step - loss: 0.2145 - val_loss: 0.1897\n",
      "Epoch 18/600\n",
      "14/14 [==============================] - 0s 3ms/step - loss: 0.2003 - val_loss: 0.1826\n",
      "Epoch 19/600\n",
      "14/14 [==============================] - 0s 3ms/step - loss: 0.1758 - val_loss: 0.1740\n",
      "Epoch 20/600\n",
      "14/14 [==============================] - 0s 3ms/step - loss: 0.1838 - val_loss: 0.1645\n",
      "Epoch 21/600\n",
      "14/14 [==============================] - 0s 3ms/step - loss: 0.1617 - val_loss: 0.1601\n",
      "Epoch 22/600\n",
      "14/14 [==============================] - 0s 3ms/step - loss: 0.1536 - val_loss: 0.1551\n",
      "Epoch 23/600\n",
      "14/14 [==============================] - 0s 3ms/step - loss: 0.1605 - val_loss: 0.1488\n",
      "Epoch 24/600\n",
      "14/14 [==============================] - 0s 3ms/step - loss: 0.1345 - val_loss: 0.1463\n",
      "Epoch 25/600\n",
      "14/14 [==============================] - 0s 3ms/step - loss: 0.1280 - val_loss: 0.1403\n",
      "Epoch 26/600\n",
      "14/14 [==============================] - 0s 3ms/step - loss: 0.1428 - val_loss: 0.1365\n",
      "Epoch 27/600\n",
      "14/14 [==============================] - 0s 3ms/step - loss: 0.1390 - val_loss: 0.1359\n",
      "Epoch 28/600\n",
      "14/14 [==============================] - 0s 3ms/step - loss: 0.1035 - val_loss: 0.1309\n",
      "Epoch 29/600\n",
      "14/14 [==============================] - 0s 10ms/step - loss: 0.1004 - val_loss: 0.1358\n",
      "Epoch 30/600\n",
      "14/14 [==============================] - 0s 3ms/step - loss: 0.1030 - val_loss: 0.1291\n",
      "Epoch 31/600\n",
      "14/14 [==============================] - 0s 3ms/step - loss: 0.1023 - val_loss: 0.1279\n",
      "Epoch 32/600\n",
      "14/14 [==============================] - 0s 3ms/step - loss: 0.1004 - val_loss: 0.1287\n",
      "Epoch 33/600\n",
      "14/14 [==============================] - 0s 3ms/step - loss: 0.0956 - val_loss: 0.1221\n",
      "Epoch 34/600\n",
      "14/14 [==============================] - 0s 3ms/step - loss: 0.1049 - val_loss: 0.1209\n",
      "Epoch 35/600\n",
      "14/14 [==============================] - 0s 3ms/step - loss: 0.1165 - val_loss: 0.1202\n",
      "Epoch 36/600\n",
      "14/14 [==============================] - 0s 3ms/step - loss: 0.0974 - val_loss: 0.1192\n",
      "Epoch 37/600\n",
      "14/14 [==============================] - 0s 3ms/step - loss: 0.0822 - val_loss: 0.1188\n",
      "Epoch 38/600\n",
      "14/14 [==============================] - 0s 3ms/step - loss: 0.0984 - val_loss: 0.1183\n",
      "Epoch 39/600\n",
      "14/14 [==============================] - 0s 3ms/step - loss: 0.0782 - val_loss: 0.1163\n",
      "Epoch 40/600\n",
      "14/14 [==============================] - 0s 3ms/step - loss: 0.0770 - val_loss: 0.1199\n",
      "Epoch 41/600\n",
      "14/14 [==============================] - 0s 3ms/step - loss: 0.0734 - val_loss: 0.1180\n",
      "Epoch 42/600\n",
      "14/14 [==============================] - 0s 3ms/step - loss: 0.0688 - val_loss: 0.1129\n",
      "Epoch 43/600\n",
      "14/14 [==============================] - 0s 3ms/step - loss: 0.0988 - val_loss: 0.1163\n",
      "Epoch 44/600\n",
      "14/14 [==============================] - 0s 3ms/step - loss: 0.0676 - val_loss: 0.1146\n",
      "Epoch 45/600\n",
      "14/14 [==============================] - 0s 3ms/step - loss: 0.0707 - val_loss: 0.1178\n",
      "Epoch 46/600\n",
      "14/14 [==============================] - 0s 3ms/step - loss: 0.0702 - val_loss: 0.1121\n",
      "Epoch 47/600\n",
      "14/14 [==============================] - 0s 3ms/step - loss: 0.0729 - val_loss: 0.1192\n",
      "Epoch 48/600\n",
      "14/14 [==============================] - 0s 3ms/step - loss: 0.0716 - val_loss: 0.1146\n",
      "Epoch 49/600\n",
      "14/14 [==============================] - 0s 3ms/step - loss: 0.0586 - val_loss: 0.1134\n",
      "Epoch 50/600\n",
      "14/14 [==============================] - 0s 3ms/step - loss: 0.0778 - val_loss: 0.1128\n",
      "Epoch 51/600\n",
      "14/14 [==============================] - 0s 3ms/step - loss: 0.0558 - val_loss: 0.1177\n",
      "Epoch 52/600\n",
      "14/14 [==============================] - 0s 3ms/step - loss: 0.0575 - val_loss: 0.1120\n",
      "Epoch 53/600\n",
      "14/14 [==============================] - 0s 3ms/step - loss: 0.0811 - val_loss: 0.1113\n",
      "Epoch 54/600\n",
      "14/14 [==============================] - 0s 3ms/step - loss: 0.0630 - val_loss: 0.1193\n",
      "Epoch 55/600\n",
      "14/14 [==============================] - 0s 3ms/step - loss: 0.0498 - val_loss: 0.1139\n",
      "Epoch 56/600\n",
      "14/14 [==============================] - 0s 3ms/step - loss: 0.0564 - val_loss: 0.1154\n",
      "Epoch 57/600\n",
      "14/14 [==============================] - 0s 3ms/step - loss: 0.0687 - val_loss: 0.1121\n",
      "Epoch 58/600\n",
      "14/14 [==============================] - 0s 3ms/step - loss: 0.0547 - val_loss: 0.1195\n",
      "Epoch 59/600\n",
      "14/14 [==============================] - 0s 3ms/step - loss: 0.0619 - val_loss: 0.1118\n",
      "Epoch 60/600\n",
      "14/14 [==============================] - 0s 3ms/step - loss: 0.0519 - val_loss: 0.1209\n",
      "Epoch 61/600\n",
      "14/14 [==============================] - 0s 3ms/step - loss: 0.0551 - val_loss: 0.1136\n",
      "Epoch 62/600\n",
      "14/14 [==============================] - 0s 3ms/step - loss: 0.0646 - val_loss: 0.1189\n",
      "Epoch 63/600\n",
      "14/14 [==============================] - 0s 3ms/step - loss: 0.0522 - val_loss: 0.1140\n",
      "Epoch 64/600\n",
      "14/14 [==============================] - 0s 3ms/step - loss: 0.0659 - val_loss: 0.1153\n",
      "Epoch 65/600\n",
      "14/14 [==============================] - 0s 3ms/step - loss: 0.0530 - val_loss: 0.1134\n",
      "Epoch 66/600\n",
      "14/14 [==============================] - 0s 3ms/step - loss: 0.0454 - val_loss: 0.1189\n",
      "Epoch 67/600\n",
      "14/14 [==============================] - 0s 3ms/step - loss: 0.0520 - val_loss: 0.1135\n",
      "Epoch 68/600\n",
      "14/14 [==============================] - 0s 3ms/step - loss: 0.0430 - val_loss: 0.1140\n",
      "Epoch 69/600\n",
      "14/14 [==============================] - 0s 3ms/step - loss: 0.0530 - val_loss: 0.1147\n",
      "Epoch 70/600\n",
      "14/14 [==============================] - 0s 3ms/step - loss: 0.0355 - val_loss: 0.1173\n",
      "Epoch 71/600\n",
      "14/14 [==============================] - 0s 3ms/step - loss: 0.0420 - val_loss: 0.1151\n",
      "Epoch 72/600\n",
      "14/14 [==============================] - 0s 3ms/step - loss: 0.0391 - val_loss: 0.1176\n",
      "Epoch 73/600\n",
      "14/14 [==============================] - 0s 3ms/step - loss: 0.0605 - val_loss: 0.1145\n",
      "Epoch 74/600\n",
      "14/14 [==============================] - 0s 3ms/step - loss: 0.0515 - val_loss: 0.1192\n",
      "Epoch 75/600\n",
      "14/14 [==============================] - 0s 3ms/step - loss: 0.0557 - val_loss: 0.1136\n",
      "Epoch 76/600\n",
      "14/14 [==============================] - 0s 3ms/step - loss: 0.0350 - val_loss: 0.1160\n",
      "Epoch 77/600\n",
      "14/14 [==============================] - 0s 9ms/step - loss: 0.0457 - val_loss: 0.1177\n",
      "Epoch 78/600\n",
      "14/14 [==============================] - 0s 4ms/step - loss: 0.0552 - val_loss: 0.1200\n",
      "Epoch 00078: early stopping\n"
     ]
    },
    {
     "data": {
      "text/plain": [
       "<tensorflow.python.keras.callbacks.History at 0x7f76a0185940>"
      ]
     },
     "execution_count": 29,
     "metadata": {},
     "output_type": "execute_result"
    }
   ],
   "source": [
    "model.fit(x=X_train, \n",
    "          y=y_train, \n",
    "          epochs=600,\n",
    "          validation_data=(X_test, y_test), verbose=1,\n",
    "          callbacks=[early_stop]\n",
    "          )"
   ]
  },
  {
   "cell_type": "code",
   "execution_count": 30,
   "metadata": {},
   "outputs": [
    {
     "data": {
      "text/plain": [
       "<AxesSubplot:>"
      ]
     },
     "execution_count": 30,
     "metadata": {},
     "output_type": "execute_result"
    },
    {
     "data": {
      "image/png": "[encoded data removed]",
      "text/plain": [
       "<Figure size 432x288 with 1 Axes>"
      ]
     },
     "metadata": {
      "needs_background": "light"
     },
     "output_type": "display_data"
    }
   ],
   "source": [
    "model_loss = pd.DataFrame(model.history.history)\n",
    "model_loss.plot()"
   ]
  },
  {
   "cell_type": "markdown",
   "metadata": {},
   "source": [
    "## Example Three: Adding in DropOut Layers"
   ]
  },
  {
   "cell_type": "code",
   "execution_count": 31,
   "metadata": {},
   "outputs": [],
   "source": [
    "from tensorflow.keras.layers import Dropout"
   ]
  },
  {
   "cell_type": "code",
   "execution_count": 32,
   "metadata": {},
   "outputs": [],
   "source": [
    "model = Sequential()\n",
    "model.add(Dense(units=30,activation='relu'))\n",
    "model.add(Dropout(0.5))\n",
    "\n",
    "model.add(Dense(units=15,activation='relu'))\n",
    "model.add(Dropout(0.5))\n",
    "\n",
    "model.add(Dense(units=1,activation='sigmoid'))\n",
    "model.compile(loss='binary_crossentropy', optimizer='adam')"
   ]
  },
  {
   "cell_type": "code",
   "execution_count": 33,
   "metadata": {},
   "outputs": [
    {
     "name": "stdout",
     "output_type": "stream",
     "text": [
      "Epoch 1/600\n",
      "14/14 [==============================] - 0s 8ms/step - loss: 0.7257 - val_loss: 0.6845\n",
      "Epoch 2/600\n",
      "14/14 [==============================] - 0s 3ms/step - loss: 0.6872 - val_loss: 0.6683\n",
      "Epoch 3/600\n",
      "14/14 [==============================] - 0s 3ms/step - loss: 0.6772 - val_loss: 0.6565\n",
      "Epoch 4/600\n",
      "14/14 [==============================] - 0s 3ms/step - loss: 0.6594 - val_loss: 0.6425\n",
      "Epoch 5/600\n",
      "14/14 [==============================] - 0s 3ms/step - loss: 0.6532 - val_loss: 0.6243\n",
      "Epoch 6/600\n",
      "14/14 [==============================] - 0s 3ms/step - loss: 0.6588 - val_loss: 0.6079\n",
      "Epoch 7/600\n",
      "14/14 [==============================] - 0s 3ms/step - loss: 0.6322 - val_loss: 0.5819\n",
      "Epoch 8/600\n",
      "14/14 [==============================] - 0s 3ms/step - loss: 0.5956 - val_loss: 0.5529\n",
      "Epoch 9/600\n",
      "14/14 [==============================] - 0s 3ms/step - loss: 0.5977 - val_loss: 0.5241\n",
      "Epoch 10/600\n",
      "14/14 [==============================] - 0s 3ms/step - loss: 0.5855 - val_loss: 0.4973\n",
      "Epoch 11/600\n",
      "14/14 [==============================] - 0s 3ms/step - loss: 0.5427 - val_loss: 0.4722\n",
      "Epoch 12/600\n",
      "14/14 [==============================] - 0s 3ms/step - loss: 0.5147 - val_loss: 0.4468\n",
      "Epoch 13/600\n",
      "14/14 [==============================] - 0s 3ms/step - loss: 0.4954 - val_loss: 0.4234\n",
      "Epoch 14/600\n",
      "14/14 [==============================] - 0s 3ms/step - loss: 0.4792 - val_loss: 0.3974\n",
      "Epoch 15/600\n",
      "14/14 [==============================] - 0s 3ms/step - loss: 0.4632 - val_loss: 0.3789\n",
      "Epoch 16/600\n",
      "14/14 [==============================] - 0s 3ms/step - loss: 0.4402 - val_loss: 0.3551\n",
      "Epoch 17/600\n",
      "14/14 [==============================] - 0s 3ms/step - loss: 0.4163 - val_loss: 0.3327\n",
      "Epoch 18/600\n",
      "14/14 [==============================] - 0s 3ms/step - loss: 0.4017 - val_loss: 0.3129\n",
      "Epoch 19/600\n",
      "14/14 [==============================] - 0s 3ms/step - loss: 0.3790 - val_loss: 0.2934\n",
      "Epoch 20/600\n",
      "14/14 [==============================] - 0s 3ms/step - loss: 0.3486 - val_loss: 0.2723\n",
      "Epoch 21/600\n",
      "14/14 [==============================] - 0s 3ms/step - loss: 0.3443 - val_loss: 0.2691\n",
      "Epoch 22/600\n",
      "14/14 [==============================] - 0s 3ms/step - loss: 0.3895 - val_loss: 0.2464\n",
      "Epoch 23/600\n",
      "14/14 [==============================] - 0s 3ms/step - loss: 0.3606 - val_loss: 0.2383\n",
      "Epoch 24/600\n",
      "14/14 [==============================] - 0s 3ms/step - loss: 0.3344 - val_loss: 0.2352\n",
      "Epoch 25/600\n",
      "14/14 [==============================] - 0s 3ms/step - loss: 0.3353 - val_loss: 0.2250\n",
      "Epoch 26/600\n",
      "14/14 [==============================] - 0s 3ms/step - loss: 0.3209 - val_loss: 0.2105\n",
      "Epoch 27/600\n",
      "14/14 [==============================] - 0s 3ms/step - loss: 0.2983 - val_loss: 0.1970\n",
      "Epoch 28/600\n",
      "14/14 [==============================] - 0s 3ms/step - loss: 0.2721 - val_loss: 0.1897\n",
      "Epoch 29/600\n",
      "14/14 [==============================] - 0s 3ms/step - loss: 0.2982 - val_loss: 0.1797\n",
      "Epoch 30/600\n",
      "14/14 [==============================] - 0s 3ms/step - loss: 0.2797 - val_loss: 0.1752\n",
      "Epoch 31/600\n",
      "14/14 [==============================] - 0s 3ms/step - loss: 0.2833 - val_loss: 0.1660\n",
      "Epoch 32/600\n",
      "14/14 [==============================] - 0s 3ms/step - loss: 0.2041 - val_loss: 0.1548\n",
      "Epoch 33/600\n",
      "14/14 [==============================] - 0s 3ms/step - loss: 0.2245 - val_loss: 0.1526\n",
      "Epoch 34/600\n",
      "14/14 [==============================] - 0s 3ms/step - loss: 0.2428 - val_loss: 0.1474\n",
      "Epoch 35/600\n",
      "14/14 [==============================] - 0s 3ms/step - loss: 0.2030 - val_loss: 0.1452\n",
      "Epoch 36/600\n",
      "14/14 [==============================] - 0s 3ms/step - loss: 0.1980 - val_loss: 0.1445\n",
      "Epoch 37/600\n",
      "14/14 [==============================] - 0s 3ms/step - loss: 0.2633 - val_loss: 0.1371\n",
      "Epoch 38/600\n",
      "14/14 [==============================] - 0s 3ms/step - loss: 0.2235 - val_loss: 0.1366\n",
      "Epoch 39/600\n",
      "14/14 [==============================] - 0s 3ms/step - loss: 0.2073 - val_loss: 0.1580\n",
      "Epoch 40/600\n",
      "14/14 [==============================] - 0s 3ms/step - loss: 0.2056 - val_loss: 0.1554\n",
      "Epoch 41/600\n",
      "14/14 [==============================] - 0s 3ms/step - loss: 0.2321 - val_loss: 0.1298\n",
      "Epoch 42/600\n",
      "14/14 [==============================] - 0s 3ms/step - loss: 0.1862 - val_loss: 0.1320\n",
      "Epoch 43/600\n",
      "14/14 [==============================] - 0s 3ms/step - loss: 0.1808 - val_loss: 0.1287\n",
      "Epoch 44/600\n",
      "14/14 [==============================] - 0s 3ms/step - loss: 0.2349 - val_loss: 0.1200\n",
      "Epoch 45/600\n",
      "14/14 [==============================] - 0s 3ms/step - loss: 0.1706 - val_loss: 0.1330\n",
      "Epoch 46/600\n",
      "14/14 [==============================] - 0s 3ms/step - loss: 0.2476 - val_loss: 0.1244\n",
      "Epoch 47/600\n",
      "14/14 [==============================] - 0s 3ms/step - loss: 0.1922 - val_loss: 0.1175\n",
      "Epoch 48/600\n",
      "14/14 [==============================] - 0s 3ms/step - loss: 0.2122 - val_loss: 0.1154\n",
      "Epoch 49/600\n",
      "14/14 [==============================] - 0s 3ms/step - loss: 0.1847 - val_loss: 0.1169\n",
      "Epoch 50/600\n",
      "14/14 [==============================] - 0s 3ms/step - loss: 0.1768 - val_loss: 0.1139\n",
      "Epoch 51/600\n",
      "14/14 [==============================] - 0s 10ms/step - loss: 0.1400 - val_loss: 0.1170\n",
      "Epoch 52/600\n",
      "14/14 [==============================] - 0s 3ms/step - loss: 0.1753 - val_loss: 0.1117\n",
      "Epoch 53/600\n",
      "14/14 [==============================] - 0s 3ms/step - loss: 0.1660 - val_loss: 0.1115\n",
      "Epoch 54/600\n",
      "14/14 [==============================] - 0s 3ms/step - loss: 0.1701 - val_loss: 0.1069\n",
      "Epoch 55/600\n",
      "14/14 [==============================] - 0s 3ms/step - loss: 0.1437 - val_loss: 0.1140\n",
      "Epoch 56/600\n",
      "14/14 [==============================] - 0s 3ms/step - loss: 0.1706 - val_loss: 0.1015\n",
      "Epoch 57/600\n",
      "14/14 [==============================] - 0s 3ms/step - loss: 0.1552 - val_loss: 0.1045\n",
      "Epoch 58/600\n",
      "14/14 [==============================] - 0s 3ms/step - loss: 0.1223 - val_loss: 0.1043\n",
      "Epoch 59/600\n",
      "14/14 [==============================] - 0s 3ms/step - loss: 0.1586 - val_loss: 0.1071\n",
      "Epoch 60/600\n",
      "14/14 [==============================] - 0s 3ms/step - loss: 0.1342 - val_loss: 0.0947\n",
      "Epoch 61/600\n",
      "14/14 [==============================] - 0s 3ms/step - loss: 0.1229 - val_loss: 0.0961\n",
      "Epoch 62/600\n",
      "14/14 [==============================] - 0s 3ms/step - loss: 0.1300 - val_loss: 0.1177\n",
      "Epoch 63/600\n",
      "14/14 [==============================] - 0s 3ms/step - loss: 0.1149 - val_loss: 0.0983\n",
      "Epoch 64/600\n",
      "14/14 [==============================] - 0s 3ms/step - loss: 0.1164 - val_loss: 0.0991\n",
      "Epoch 65/600\n",
      "14/14 [==============================] - 0s 3ms/step - loss: 0.1152 - val_loss: 0.1032\n",
      "Epoch 66/600\n",
      "14/14 [==============================] - 0s 3ms/step - loss: 0.1168 - val_loss: 0.0961\n",
      "Epoch 67/600\n",
      "14/14 [==============================] - 0s 3ms/step - loss: 0.1072 - val_loss: 0.0950\n",
      "Epoch 68/600\n",
      "14/14 [==============================] - 0s 3ms/step - loss: 0.1051 - val_loss: 0.1012\n",
      "Epoch 69/600\n",
      "14/14 [==============================] - 0s 3ms/step - loss: 0.1425 - val_loss: 0.0987\n",
      "Epoch 70/600\n",
      "14/14 [==============================] - 0s 3ms/step - loss: 0.1608 - val_loss: 0.1086\n",
      "Epoch 71/600\n",
      "14/14 [==============================] - 0s 3ms/step - loss: 0.0989 - val_loss: 0.1024\n",
      "Epoch 72/600\n",
      "14/14 [==============================] - 0s 3ms/step - loss: 0.1265 - val_loss: 0.0984\n",
      "Epoch 73/600\n",
      "14/14 [==============================] - 0s 3ms/step - loss: 0.1044 - val_loss: 0.1012\n",
      "Epoch 74/600\n",
      "14/14 [==============================] - 0s 3ms/step - loss: 0.1224 - val_loss: 0.1062\n",
      "Epoch 75/600\n",
      "14/14 [==============================] - 0s 3ms/step - loss: 0.1042 - val_loss: 0.1058\n",
      "Epoch 76/600\n",
      "14/14 [==============================] - 0s 3ms/step - loss: 0.1665 - val_loss: 0.0987\n",
      "Epoch 77/600\n",
      "14/14 [==============================] - 0s 3ms/step - loss: 0.0998 - val_loss: 0.1077\n",
      "Epoch 78/600\n",
      "14/14 [==============================] - 0s 3ms/step - loss: 0.1311 - val_loss: 0.0978\n",
      "Epoch 79/600\n",
      "14/14 [==============================] - 0s 3ms/step - loss: 0.1160 - val_loss: 0.0938\n",
      "Epoch 80/600\n",
      "14/14 [==============================] - 0s 3ms/step - loss: 0.1153 - val_loss: 0.1006\n",
      "Epoch 81/600\n",
      "14/14 [==============================] - 0s 3ms/step - loss: 0.0896 - val_loss: 0.0904\n",
      "Epoch 82/600\n",
      "14/14 [==============================] - 0s 3ms/step - loss: 0.1272 - val_loss: 0.1066\n",
      "Epoch 83/600\n",
      "14/14 [==============================] - 0s 3ms/step - loss: 0.1369 - val_loss: 0.0941\n",
      "Epoch 84/600\n",
      "14/14 [==============================] - 0s 3ms/step - loss: 0.0876 - val_loss: 0.0940\n",
      "Epoch 85/600\n",
      "14/14 [==============================] - 0s 3ms/step - loss: 0.1277 - val_loss: 0.0925\n",
      "Epoch 86/600\n",
      "14/14 [==============================] - 0s 3ms/step - loss: 0.1237 - val_loss: 0.1083\n",
      "Epoch 87/600\n",
      "14/14 [==============================] - 0s 3ms/step - loss: 0.0942 - val_loss: 0.0977\n",
      "Epoch 88/600\n",
      "14/14 [==============================] - 0s 3ms/step - loss: 0.1263 - val_loss: 0.1026\n",
      "Epoch 89/600\n",
      "14/14 [==============================] - 0s 3ms/step - loss: 0.1025 - val_loss: 0.1010\n",
      "Epoch 90/600\n",
      "14/14 [==============================] - 0s 3ms/step - loss: 0.1195 - val_loss: 0.0902\n",
      "Epoch 91/600\n",
      "14/14 [==============================] - 0s 3ms/step - loss: 0.1621 - val_loss: 0.0891\n",
      "Epoch 92/600\n",
      "14/14 [==============================] - 0s 3ms/step - loss: 0.1004 - val_loss: 0.0947\n",
      "Epoch 93/600\n",
      "14/14 [==============================] - 0s 3ms/step - loss: 0.0716 - val_loss: 0.1006\n",
      "Epoch 94/600\n",
      "14/14 [==============================] - 0s 3ms/step - loss: 0.1016 - val_loss: 0.1002\n",
      "Epoch 95/600\n",
      "14/14 [==============================] - 0s 3ms/step - loss: 0.1159 - val_loss: 0.0865\n",
      "Epoch 96/600\n",
      "14/14 [==============================] - 0s 3ms/step - loss: 0.0791 - val_loss: 0.0910\n",
      "Epoch 97/600\n",
      "14/14 [==============================] - 0s 3ms/step - loss: 0.0796 - val_loss: 0.1141\n",
      "Epoch 98/600\n",
      "14/14 [==============================] - 0s 3ms/step - loss: 0.1012 - val_loss: 0.0876\n",
      "Epoch 99/600\n",
      "14/14 [==============================] - 0s 3ms/step - loss: 0.1196 - val_loss: 0.1002\n",
      "Epoch 100/600\n",
      "14/14 [==============================] - 0s 3ms/step - loss: 0.1107 - val_loss: 0.0940\n",
      "Epoch 101/600\n",
      "14/14 [==============================] - 0s 10ms/step - loss: 0.0965 - val_loss: 0.0968\n",
      "Epoch 102/600\n",
      "14/14 [==============================] - 0s 3ms/step - loss: 0.1040 - val_loss: 0.0984\n",
      "Epoch 103/600\n",
      "14/14 [==============================] - 0s 3ms/step - loss: 0.0857 - val_loss: 0.0908\n",
      "Epoch 104/600\n",
      "14/14 [==============================] - 0s 4ms/step - loss: 0.0897 - val_loss: 0.1188\n",
      "Epoch 105/600\n",
      "14/14 [==============================] - 0s 3ms/step - loss: 0.0788 - val_loss: 0.1037\n",
      "Epoch 106/600\n",
      "14/14 [==============================] - 0s 3ms/step - loss: 0.0880 - val_loss: 0.0972\n",
      "Epoch 107/600\n",
      "14/14 [==============================] - 0s 3ms/step - loss: 0.1184 - val_loss: 0.0932\n",
      "Epoch 108/600\n",
      "14/14 [==============================] - 0s 3ms/step - loss: 0.0835 - val_loss: 0.0983\n",
      "Epoch 109/600\n",
      "14/14 [==============================] - 0s 3ms/step - loss: 0.0931 - val_loss: 0.0976\n",
      "Epoch 110/600\n",
      "14/14 [==============================] - 0s 3ms/step - loss: 0.0616 - val_loss: 0.0850\n",
      "Epoch 111/600\n",
      "14/14 [==============================] - 0s 3ms/step - loss: 0.0894 - val_loss: 0.0852\n",
      "Epoch 112/600\n",
      "14/14 [==============================] - 0s 3ms/step - loss: 0.1196 - val_loss: 0.0869\n",
      "Epoch 113/600\n",
      "14/14 [==============================] - 0s 3ms/step - loss: 0.0869 - val_loss: 0.1002\n",
      "Epoch 114/600\n",
      "14/14 [==============================] - 0s 3ms/step - loss: 0.1084 - val_loss: 0.0965\n",
      "Epoch 115/600\n",
      "14/14 [==============================] - 0s 3ms/step - loss: 0.0892 - val_loss: 0.0952\n",
      "Epoch 116/600\n",
      "14/14 [==============================] - 0s 3ms/step - loss: 0.0962 - val_loss: 0.0923\n",
      "Epoch 117/600\n",
      "14/14 [==============================] - 0s 4ms/step - loss: 0.0742 - val_loss: 0.1009\n",
      "Epoch 118/600\n",
      "14/14 [==============================] - 0s 3ms/step - loss: 0.1419 - val_loss: 0.0998\n",
      "Epoch 119/600\n",
      "14/14 [==============================] - 0s 3ms/step - loss: 0.0916 - val_loss: 0.0891\n",
      "Epoch 120/600\n",
      "14/14 [==============================] - 0s 3ms/step - loss: 0.0898 - val_loss: 0.0905\n",
      "Epoch 121/600\n",
      "14/14 [==============================] - 0s 3ms/step - loss: 0.0982 - val_loss: 0.0953\n",
      "Epoch 122/600\n",
      "14/14 [==============================] - 0s 3ms/step - loss: 0.0777 - val_loss: 0.1064\n",
      "Epoch 123/600\n",
      "14/14 [==============================] - 0s 3ms/step - loss: 0.1122 - val_loss: 0.0991\n",
      "Epoch 124/600\n",
      "14/14 [==============================] - 0s 3ms/step - loss: 0.1009 - val_loss: 0.0999\n",
      "Epoch 125/600\n",
      "14/14 [==============================] - 0s 4ms/step - loss: 0.0597 - val_loss: 0.0867\n",
      "Epoch 126/600\n",
      "14/14 [==============================] - 0s 3ms/step - loss: 0.0939 - val_loss: 0.1066\n",
      "Epoch 127/600\n",
      "14/14 [==============================] - 0s 3ms/step - loss: 0.0773 - val_loss: 0.1054\n",
      "Epoch 128/600\n",
      "14/14 [==============================] - 0s 3ms/step - loss: 0.0916 - val_loss: 0.0956\n",
      "Epoch 129/600\n",
      "14/14 [==============================] - 0s 3ms/step - loss: 0.0933 - val_loss: 0.1025\n",
      "Epoch 130/600\n",
      "14/14 [==============================] - 0s 3ms/step - loss: 0.0671 - val_loss: 0.1060\n",
      "Epoch 131/600\n",
      "14/14 [==============================] - 0s 3ms/step - loss: 0.0857 - val_loss: 0.1028\n",
      "Epoch 132/600\n",
      "14/14 [==============================] - 0s 3ms/step - loss: 0.0871 - val_loss: 0.0939\n",
      "Epoch 133/600\n",
      "14/14 [==============================] - 0s 3ms/step - loss: 0.0634 - val_loss: 0.1033\n",
      "Epoch 134/600\n",
      "14/14 [==============================] - 0s 3ms/step - loss: 0.0933 - val_loss: 0.1153\n",
      "Epoch 135/600\n",
      "14/14 [==============================] - 0s 3ms/step - loss: 0.0808 - val_loss: 0.0944\n",
      "Epoch 00135: early stopping\n"
     ]
    },
    {
     "data": {
      "text/plain": [
       "<tensorflow.python.keras.callbacks.History at 0x7f76b034d860>"
      ]
     },
     "execution_count": 33,
     "metadata": {},
     "output_type": "execute_result"
    }
   ],
   "source": [
    "model.fit(x=X_train, \n",
    "          y=y_train, \n",
    "          epochs=600,\n",
    "          validation_data=(X_test, y_test), verbose=1,\n",
    "          callbacks=[early_stop]\n",
    "          )"
   ]
  },
  {
   "cell_type": "code",
   "execution_count": 34,
   "metadata": {},
   "outputs": [
    {
     "data": {
      "text/plain": [
       "<AxesSubplot:>"
      ]
     },
     "execution_count": 34,
     "metadata": {},
     "output_type": "execute_result"
    },
    {
     "data": {
      "image/png": "[encoded data removed]",
      "text/plain": [
       "<Figure size 432x288 with 1 Axes>"
      ]
     },
     "metadata": {
      "needs_background": "light"
     },
     "output_type": "display_data"
    }
   ],
   "source": [
    "model_loss = pd.DataFrame(model.history.history)\n",
    "model_loss.plot()"
   ]
  },
  {
   "cell_type": "markdown",
   "metadata": {},
   "source": [
    "# Model Evaluation"
   ]
  },
  {
   "cell_type": "code",
   "execution_count": 40,
   "metadata": {},
   "outputs": [
    {
     "name": "stderr",
     "output_type": "stream",
     "text": [
      "/home/makama/anaconda3/envs/app/lib/python3.6/site-packages/tensorflow/python/keras/engine/sequential.py:450: UserWarning: `model.predict_classes()` is deprecated and will be removed after 2021-01-01. Please use instead:* `np.argmax(model.predict(x), axis=-1)`,   if your model does multi-class classification   (e.g. if it uses a `softmax` last-layer activation).* `(model.predict(x) > 0.5).astype(\"int32\")`,   if your model does binary classification   (e.g. if it uses a `sigmoid` last-layer activation).\n",
      "  warnings.warn('`model.predict_classes()` is deprecated and '\n"
     ]
    }
   ],
   "source": [
    "predictions = model.predict_classes(X_test)"
   ]
  },
  {
   "cell_type": "code",
   "execution_count": 41,
   "metadata": {},
   "outputs": [],
   "source": [
    "from sklearn.metrics import classification_report,confusion_matrix"
   ]
  },
  {
   "cell_type": "code",
   "execution_count": 42,
   "metadata": {},
   "outputs": [
    {
     "name": "stdout",
     "output_type": "stream",
     "text": [
      "              precision    recall  f1-score   support\n",
      "\n",
      "           0       0.96      0.98      0.97        55\n",
      "           1       0.99      0.98      0.98        88\n",
      "\n",
      "    accuracy                           0.98       143\n",
      "   macro avg       0.98      0.98      0.98       143\n",
      "weighted avg       0.98      0.98      0.98       143\n",
      "\n"
     ]
    }
   ],
   "source": [
    "# https://en.wikipedia.org/wiki/Precision_and_recall\n",
    "print(classification_report(y_test,predictions))"
   ]
  },
  {
   "cell_type": "code",
   "execution_count": 38,
   "metadata": {},
   "outputs": [
    {
     "name": "stdout",
     "output_type": "stream",
     "text": [
      "[[54  1]\n",
      " [ 3 85]]\n"
     ]
    }
   ],
   "source": [
    "print(confusion_matrix(y_test,predictions))"
   ]
  },
  {
   "cell_type": "code",
   "execution_count": null,
   "metadata": {},
   "outputs": [],
   "source": []
  },
  {
   "cell_type": "code",
   "execution_count": null,
   "metadata": {},
   "outputs": [],
   "source": []
  }
 ],
 "metadata": {
  "kernelspec": {
   "display_name": "Python 3",
   "language": "python",
   "name": "python3"
  },
  "language_info": {
   "codemirror_mode": {
    "name": "ipython",
    "version": 3
   },
   "file_extension": ".py",
   "mimetype": "text/x-python",
   "name": "python",
   "nbconvert_exporter": "python",
   "pygments_lexer": "ipython3",
   "version": "3.6.13"
  }
 },
 "nbformat": 4,
 "nbformat_minor": 4
}
