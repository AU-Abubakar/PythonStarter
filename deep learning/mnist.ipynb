{
 "cells": [
  {
   "cell_type": "markdown",
   "metadata": {
    "id": "Avl_aDCIm03n"
   },
   "source": [
    "## Notebook for Training Digit MNIST using TensorFlow\n",
    "\n",
    "[![Open In Colab](https://colab.research.google.com/assets/colab-badge.svg)](https://colab.research.google.com/github/makama-md/PythonStarter]"
   ]
  },
  {
   "cell_type": "code",
   "execution_count": 1,
   "metadata": {
    "executionInfo": {
     "elapsed": 2125,
     "status": "ok",
     "timestamp": 1627449255639,
     "user": {
      "displayName": "Sovit Rath",
      "photoUrl": "https://lh3.googleusercontent.com/a-/AOh14Gh3bxQQRKRmYWbln4Pg3UTGvMihIOdPl5mI80QK2g=s64",
      "userId": "16116444459058408221"
     },
     "user_tz": -330
    },
    "id": "yxYl7qbDmX2G"
   },
   "outputs": [],
   "source": [
    "import tensorflow as tf\n",
    "import numpy as np\n",
    "import matplotlib.pyplot as plt\n",
    "import matplotlib\n",
    "import numpy as np\n",
    "\n",
    "from sklearn.metrics import classification_report\n",
    "\n",
    "matplotlib.style.use('ggplot')"
   ]
  },
  {
   "cell_type": "markdown",
   "metadata": {
    "id": "WTPbHU6Vmziu"
   },
   "source": [
    "## Import the Digit MNIST Dataset"
   ]
  },
  {
   "cell_type": "code",
   "execution_count": 2,
   "metadata": {
    "executionInfo": {
     "elapsed": 56,
     "status": "ok",
     "timestamp": 1627449255647,
     "user": {
      "displayName": "Sovit Rath",
      "photoUrl": "https://lh3.googleusercontent.com/a-/AOh14Gh3bxQQRKRmYWbln4Pg3UTGvMihIOdPl5mI80QK2g=s64",
      "userId": "16116444459058408221"
     },
     "user_tz": -330
    },
    "id": "kInd_66dnBZf"
   },
   "outputs": [],
   "source": [
    "mnist = tf.keras.datasets.mnist"
   ]
  },
  {
   "cell_type": "code",
   "execution_count": 3,
   "metadata": {
    "colab": {
     "base_uri": "https://localhost:8080/"
    },
    "executionInfo": {
     "elapsed": 1240,
     "status": "ok",
     "timestamp": 1627449256833,
     "user": {
      "displayName": "Sovit Rath",
      "photoUrl": "https://lh3.googleusercontent.com/a-/AOh14Gh3bxQQRKRmYWbln4Pg3UTGvMihIOdPl5mI80QK2g=s64",
      "userId": "16116444459058408221"
     },
     "user_tz": -330
    },
    "id": "eUI-jkA0nTxR",
    "outputId": "ab7a8f3c-41f4-4f85-abe5-53cc803ac6f8"
   },
   "outputs": [],
   "source": [
    "(x_train, y_train), (x_test, y_test) = mnist.load_data()"
   ]
  },
  {
   "cell_type": "code",
   "execution_count": 4,
   "metadata": {
    "colab": {
     "base_uri": "https://localhost:8080/"
    },
    "executionInfo": {
     "elapsed": 67,
     "status": "ok",
     "timestamp": 1627449256836,
     "user": {
      "displayName": "Sovit Rath",
      "photoUrl": "https://lh3.googleusercontent.com/a-/AOh14Gh3bxQQRKRmYWbln4Pg3UTGvMihIOdPl5mI80QK2g=s64",
      "userId": "16116444459058408221"
     },
     "user_tz": -330
    },
    "id": "3uSL-Iynnbn1",
    "outputId": "a46d95aa-5b1c-4eaa-de0d-91380f9d0aa8"
   },
   "outputs": [
    {
     "name": "stdout",
     "output_type": "stream",
     "text": [
      "Number of training images: 60000\n",
      "Number of test images: 10000\n"
     ]
    }
   ],
   "source": [
    "print(f\"Number of training images: {len(x_train)}\")\n",
    "print(f\"Number of test images: {len(x_test)}\")"
   ]
  },
  {
   "cell_type": "code",
   "execution_count": 19,
   "metadata": {
    "colab": {
     "base_uri": "https://localhost:8080/"
    },
    "executionInfo": {
     "elapsed": 66,
     "status": "ok",
     "timestamp": 1627449256842,
     "user": {
      "displayName": "Sovit Rath",
      "photoUrl": "https://lh3.googleusercontent.com/a-/AOh14Gh3bxQQRKRmYWbln4Pg3UTGvMihIOdPl5mI80QK2g=s64",
      "userId": "16116444459058408221"
     },
     "user_tz": -330
    },
    "id": "34-wmwx2nxxn",
    "outputId": "3362d1c6-3396-4d2d-ba76-6268bdda2b7d"
   },
   "outputs": [
    {
     "name": "stdout",
     "output_type": "stream",
     "text": [
      "8\n"
     ]
    }
   ],
   "source": [
    "print(y_train[-1])"
   ]
  },
  {
   "cell_type": "markdown",
   "metadata": {
    "id": "058ZNcSmn227"
   },
   "source": [
    "## Visualize and Preprocess the Data"
   ]
  },
  {
   "cell_type": "code",
   "execution_count": 21,
   "metadata": {
    "colab": {
     "base_uri": "https://localhost:8080/",
     "height": 265
    },
    "executionInfo": {
     "elapsed": 63,
     "status": "ok",
     "timestamp": 1627449256845,
     "user": {
      "displayName": "Sovit Rath",
      "photoUrl": "https://lh3.googleusercontent.com/a-/AOh14Gh3bxQQRKRmYWbln4Pg3UTGvMihIOdPl5mI80QK2g=s64",
      "userId": "16116444459058408221"
     },
     "user_tz": -330
    },
    "id": "rCEQI2xYoFEC",
    "outputId": "22b3c00e-8a5c-43d2-be61-4e82ea46b8a5"
   },
   "outputs": [
    {
     "data": {
      "image/png": "[encoded data removed]",
      "text/plain": [
       "<Figure size 432x288 with 2 Axes>"
      ]
     },
     "metadata": {},
     "output_type": "display_data"
    }
   ],
   "source": [
    "plt.imshow(x_train[0], cmap = 'gray' )\n",
    "plt.colorbar()\n",
    "plt.savefig('digit-mnist-single-digit.jpg')\n",
    "plt.show()"
   ]
  },
  {
   "cell_type": "markdown",
   "metadata": {
    "id": "DvO12nI9oMV3"
   },
   "source": [
    "Currently, the pixel values are between 0 to 255. We need to scale them to be within the range of 0 to 1. This is needed before we give the images to the neural network for training.\n",
    "\n",
    "We can simply carry out the following step to scale the pixel values for our images."
   ]
  },
  {
   "cell_type": "code",
   "execution_count": null,
   "metadata": {},
   "outputs": [],
   "source": [
    "!pip install matplotlib"
   ]
  },
  {
   "cell_type": "code",
   "execution_count": 7,
   "metadata": {
    "executionInfo": {
     "elapsed": 76,
     "status": "ok",
     "timestamp": 1627449256869,
     "user": {
      "displayName": "Sovit Rath",
      "photoUrl": "https://lh3.googleusercontent.com/a-/AOh14Gh3bxQQRKRmYWbln4Pg3UTGvMihIOdPl5mI80QK2g=s64",
      "userId": "16116444459058408221"
     },
     "user_tz": -330
    },
    "id": "dBuHCC3yogO8"
   },
   "outputs": [],
   "source": [
    "x_train = x_train / 255.0\n",
    "x_test = x_test / 255.0"
   ]
  },
  {
   "cell_type": "markdown",
   "metadata": {
    "id": "uAiy-me8ouDa"
   },
   "source": [
    "Now, let's visualize the images along with the labels."
   ]
  },
  {
   "cell_type": "code",
   "execution_count": 8,
   "metadata": {
    "colab": {
     "base_uri": "https://localhost:8080/",
     "height": 537
    },
    "executionInfo": {
     "elapsed": 685,
     "status": "ok",
     "timestamp": 1627449257485,
     "user": {
      "displayName": "Sovit Rath",
      "photoUrl": "https://lh3.googleusercontent.com/a-/AOh14Gh3bxQQRKRmYWbln4Pg3UTGvMihIOdPl5mI80QK2g=s64",
      "userId": "16116444459058408221"
     },
     "user_tz": -330
    },
    "id": "LBKd3KVSoya8",
    "outputId": "e3bbba8b-c6d7-454c-a74c-0100872e402c"
   },
   "outputs": [
    {
     "data": {
      "image/png": "[encoded data removed]",
      "text/plain": [
       "<Figure size 864x648 with 18 Axes>"
      ]
     },
     "metadata": {},
     "output_type": "display_data"
    }
   ],
   "source": [
    "plt.figure(figsize=(12, 9))\n",
    "for i in range(9):\n",
    "    plt.subplot(3, 3, i+1)\n",
    "    plt.axis('off')\n",
    "    plt.imshow(x_train[i])\n",
    "    plt.colorbar()\n",
    "    plt.title(y_train[i])\n",
    "plt.savefig('digit-mnist-images-with-labels.jpg')\n",
    "plt.show()"
   ]
  },
  {
   "cell_type": "markdown",
   "metadata": {
    "id": "3SZnc7LqpJcm"
   },
   "source": [
    "## Build and Train the Neural Network Model"
   ]
  },
  {
   "cell_type": "markdown",
   "metadata": {
    "id": "N5sCSUwOqZT-"
   },
   "source": [
    "### Stack the Layers"
   ]
  },
  {
   "cell_type": "code",
   "execution_count": 9,
   "metadata": {
    "executionInfo": {
     "elapsed": 1486,
     "status": "ok",
     "timestamp": 1627449258926,
     "user": {
      "displayName": "Sovit Rath",
      "photoUrl": "https://lh3.googleusercontent.com/a-/AOh14Gh3bxQQRKRmYWbln4Pg3UTGvMihIOdPl5mI80QK2g=s64",
      "userId": "16116444459058408221"
     },
     "user_tz": -330
    },
    "id": "0oZYmqfqqEav"
   },
   "outputs": [
    {
     "name": "stdout",
     "output_type": "stream",
     "text": [
      "Model: \"sequential\"\n",
      "_________________________________________________________________\n",
      "Layer (type)                 Output Shape              Param #   \n",
      "=================================================================\n",
      "flatten (Flatten)            (None, 784)               0         \n",
      "_________________________________________________________________\n",
      "dense (Dense)                (None, 128)               100480    \n",
      "_________________________________________________________________\n",
      "dense_1 (Dense)              (None, 10)                1290      \n",
      "=================================================================\n",
      "Total params: 101,770\n",
      "Trainable params: 101,770\n",
      "Non-trainable params: 0\n",
      "_________________________________________________________________\n",
      "None\n"
     ]
    }
   ],
   "source": [
    "model = tf.keras.Sequential([\n",
    "    tf.keras.layers.Flatten(input_shape=(28, 28)),\n",
    "    tf.keras.layers.Dense(128, activation='relu'),\n",
    "    tf.keras.layers.Dense(10)\n",
    "])\n",
    "\n",
    "print(model.summary())"
   ]
  },
  {
   "cell_type": "markdown",
   "metadata": {
    "id": "uzZyrErqqVm_"
   },
   "source": [
    "### Compile the Model"
   ]
  },
  {
   "cell_type": "code",
   "execution_count": 10,
   "metadata": {
    "executionInfo": {
     "elapsed": 22,
     "status": "ok",
     "timestamp": 1627449258929,
     "user": {
      "displayName": "Sovit Rath",
      "photoUrl": "https://lh3.googleusercontent.com/a-/AOh14Gh3bxQQRKRmYWbln4Pg3UTGvMihIOdPl5mI80QK2g=s64",
      "userId": "16116444459058408221"
     },
     "user_tz": -330
    },
    "id": "-fEKH6Ljqd2G"
   },
   "outputs": [],
   "source": [
    "model.compile(\n",
    "    optimizer='adam',\n",
    "    loss=tf.keras.losses.SparseCategoricalCrossentropy(from_logits=True),\n",
    "    metrics=['accuracy']\n",
    ")"
   ]
  },
  {
   "cell_type": "markdown",
   "metadata": {
    "id": "cLaDM0lwqsDN"
   },
   "source": [
    "### Train the Model"
   ]
  },
  {
   "cell_type": "code",
   "execution_count": 11,
   "metadata": {
    "colab": {
     "base_uri": "https://localhost:8080/"
    },
    "executionInfo": {
     "elapsed": 40567,
     "status": "ok",
     "timestamp": 1627449299477,
     "user": {
      "displayName": "Sovit Rath",
      "photoUrl": "https://lh3.googleusercontent.com/a-/AOh14Gh3bxQQRKRmYWbln4Pg3UTGvMihIOdPl5mI80QK2g=s64",
      "userId": "16116444459058408221"
     },
     "user_tz": -330
    },
    "id": "f2Ca7yAqqxKL",
    "outputId": "68e4bb96-09e6-4b2b-cea9-167d67700dee"
   },
   "outputs": [
    {
     "name": "stdout",
     "output_type": "stream",
     "text": [
      "Epoch 1/10\n",
      "1875/1875 [==============================] - 1s 660us/step - loss: 0.4299 - accuracy: 0.8798\n",
      "Epoch 2/10\n",
      "1875/1875 [==============================] - 1s 656us/step - loss: 0.1153 - accuracy: 0.9661\n",
      "Epoch 3/10\n",
      "1875/1875 [==============================] - 1s 650us/step - loss: 0.0787 - accuracy: 0.9769\n",
      "Epoch 4/10\n",
      "1875/1875 [==============================] - 1s 665us/step - loss: 0.0537 - accuracy: 0.9834\n",
      "Epoch 5/10\n",
      "1875/1875 [==============================] - 1s 647us/step - loss: 0.0411 - accuracy: 0.9879\n",
      "Epoch 6/10\n",
      "1875/1875 [==============================] - 1s 658us/step - loss: 0.0328 - accuracy: 0.9896\n",
      "Epoch 7/10\n",
      "1875/1875 [==============================] - 1s 647us/step - loss: 0.0246 - accuracy: 0.9922\n",
      "Epoch 8/10\n",
      "1875/1875 [==============================] - 1s 640us/step - loss: 0.0191 - accuracy: 0.9942\n",
      "Epoch 9/10\n",
      "1875/1875 [==============================] - 1s 653us/step - loss: 0.0156 - accuracy: 0.9956\n",
      "Epoch 10/10\n",
      "1875/1875 [==============================] - 1s 667us/step - loss: 0.0132 - accuracy: 0.9959\n"
     ]
    }
   ],
   "source": [
    "history = model.fit(x_train, y_train, epochs=10)"
   ]
  },
  {
   "cell_type": "markdown",
   "metadata": {},
   "source": [
    "## Plot the Accuracy and Loss Line Graphs"
   ]
  },
  {
   "cell_type": "code",
   "execution_count": 12,
   "metadata": {
    "colab": {
     "base_uri": "https://localhost:8080/"
    },
    "executionInfo": {
     "elapsed": 54,
     "status": "ok",
     "timestamp": 1627449299503,
     "user": {
      "displayName": "Sovit Rath",
      "photoUrl": "https://lh3.googleusercontent.com/a-/AOh14Gh3bxQQRKRmYWbln4Pg3UTGvMihIOdPl5mI80QK2g=s64",
      "userId": "16116444459058408221"
     },
     "user_tz": -330
    },
    "id": "_N30LWj9q1jg",
    "outputId": "371b41d8-73ce-4fa1-abef-e0a6cb0b0f97"
   },
   "outputs": [
    {
     "name": "stdout",
     "output_type": "stream",
     "text": [
      "dict_keys(['loss', 'accuracy'])\n"
     ]
    }
   ],
   "source": [
    "print(history.history.keys())"
   ]
  },
  {
   "cell_type": "code",
   "execution_count": 13,
   "metadata": {
    "executionInfo": {
     "elapsed": 38,
     "status": "ok",
     "timestamp": 1627449299504,
     "user": {
      "displayName": "Sovit Rath",
      "photoUrl": "https://lh3.googleusercontent.com/a-/AOh14Gh3bxQQRKRmYWbln4Pg3UTGvMihIOdPl5mI80QK2g=s64",
      "userId": "16116444459058408221"
     },
     "user_tz": -330
    },
    "id": "Aaem9OMGrD_B"
   },
   "outputs": [],
   "source": [
    "train_loss = history.history['loss']\n",
    "train_acc = history.history['accuracy']"
   ]
  },
  {
   "cell_type": "code",
   "execution_count": 14,
   "metadata": {
    "colab": {
     "base_uri": "https://localhost:8080/",
     "height": 873
    },
    "executionInfo": {
     "elapsed": 661,
     "status": "ok",
     "timestamp": 1627449300129,
     "user": {
      "displayName": "Sovit Rath",
      "photoUrl": "https://lh3.googleusercontent.com/a-/AOh14Gh3bxQQRKRmYWbln4Pg3UTGvMihIOdPl5mI80QK2g=s64",
      "userId": "16116444459058408221"
     },
     "user_tz": -330
    },
    "id": "RUbENNdSrfSY",
    "outputId": "f81a3322-9987-4ec4-f6cc-908c68685633"
   },
   "outputs": [
    {
     "data": {
      "image/png": "[encoded data removed]",
      "text/plain": [
       "<Figure size 720x504 with 1 Axes>"
      ]
     },
     "metadata": {},
     "output_type": "display_data"
    },
    {
     "data": {
      "image/png": "[encoded data removed]",
      "text/plain": [
       "<Figure size 720x504 with 1 Axes>"
      ]
     },
     "metadata": {},
     "output_type": "display_data"
    }
   ],
   "source": [
    "# accuracy plot\n",
    "plt.figure(figsize=(10, 7))\n",
    "plt.plot(\n",
    "    train_acc, color='green', linestyle='-', \n",
    "    label='train accuracy'\n",
    ")\n",
    "plt.xlabel('Epochs')\n",
    "plt.ylabel('Accuracy')\n",
    "plt.legend()\n",
    "plt.savefig('digit-mnist-accuracy.jpg')\n",
    "plt.show()\n",
    "# loss plot\n",
    "plt.figure(figsize=(10, 7))\n",
    "plt.plot(\n",
    "    train_loss, color='orange', linestyle='-', \n",
    "    label='train loss'\n",
    ")\n",
    "plt.xlabel('Epochs')\n",
    "plt.ylabel('Loss')\n",
    "plt.legend()\n",
    "plt.savefig('digit-mnist-loss.jpg')\n",
    "plt.show()"
   ]
  },
  {
   "cell_type": "markdown",
   "metadata": {
    "id": "6JCUKXFTr_FN"
   },
   "source": [
    "## Evaluation Accuracy and Loss on the Test Set"
   ]
  },
  {
   "cell_type": "code",
   "execution_count": 15,
   "metadata": {
    "colab": {
     "base_uri": "https://localhost:8080/"
    },
    "executionInfo": {
     "elapsed": 380,
     "status": "ok",
     "timestamp": 1627449300496,
     "user": {
      "displayName": "Sovit Rath",
      "photoUrl": "https://lh3.googleusercontent.com/a-/AOh14Gh3bxQQRKRmYWbln4Pg3UTGvMihIOdPl5mI80QK2g=s64",
      "userId": "16116444459058408221"
     },
     "user_tz": -330
    },
    "id": "wMSqkdZ-s0iQ",
    "outputId": "c3bb09cb-af77-4224-d4b1-efb7a461d9fd"
   },
   "outputs": [
    {
     "name": "stdout",
     "output_type": "stream",
     "text": [
      "313/313 [==============================] - 0s 551us/step - loss: 0.0840 - accuracy: 0.9775\n"
     ]
    }
   ],
   "source": [
    "test_loss, test_acc = model.evaluate(x_test, y_test, verbose=1)"
   ]
  },
  {
   "cell_type": "code",
   "execution_count": 16,
   "metadata": {
    "colab": {
     "base_uri": "https://localhost:8080/"
    },
    "executionInfo": {
     "elapsed": 23,
     "status": "ok",
     "timestamp": 1627449300503,
     "user": {
      "displayName": "Sovit Rath",
      "photoUrl": "https://lh3.googleusercontent.com/a-/AOh14Gh3bxQQRKRmYWbln4Pg3UTGvMihIOdPl5mI80QK2g=s64",
      "userId": "16116444459058408221"
     },
     "user_tz": -330
    },
    "id": "R33dESXbtKED",
    "outputId": "b4b7536d-cdff-470a-9fca-e768099bb7f9"
   },
   "outputs": [
    {
     "name": "stdout",
     "output_type": "stream",
     "text": [
      "Test accuracy: 97.750\n",
      "Test loss: 0.084\n"
     ]
    }
   ],
   "source": [
    "print(f\"Test accuracy: {test_acc*100:.3f}\")\n",
    "print(f\"Test loss: {test_loss:.3f}\")"
   ]
  },
  {
   "cell_type": "markdown",
   "metadata": {},
   "source": [
    "## Generate the Classification Report"
   ]
  },
  {
   "cell_type": "code",
   "execution_count": 17,
   "metadata": {
    "executionInfo": {
     "elapsed": 20,
     "status": "ok",
     "timestamp": 1627449300505,
     "user": {
      "displayName": "Sovit Rath",
      "photoUrl": "https://lh3.googleusercontent.com/a-/AOh14Gh3bxQQRKRmYWbln4Pg3UTGvMihIOdPl5mI80QK2g=s64",
      "userId": "16116444459058408221"
     },
     "user_tz": -330
    },
    "id": "qIh1ggugtWVx"
   },
   "outputs": [
    {
     "name": "stdout",
     "output_type": "stream",
     "text": [
      "Class 0: Digit 0\n",
      "Class 1: Digit 1\n",
      "Class 2: Digit 2\n",
      "Class 3: Digit 3\n",
      "Class 4: Digit 4\n",
      "Class 5: Digit 5\n",
      "Class 6: Digit 6\n",
      "Class 7: Digit 7\n",
      "Class 8: Digit 8\n",
      "              precision    recall  f1-score   support\n",
      "\n",
      "           0       0.99      0.99      0.99       980\n",
      "           1       0.99      0.99      0.99      1135\n",
      "           2       0.97      0.98      0.97      1032\n",
      "           3       0.98      0.96      0.97      1010\n",
      "           4       0.97      0.99      0.98       982\n",
      "           5       0.98      0.98      0.98       892\n",
      "           6       0.99      0.97      0.98       958\n",
      "           7       0.97      0.98      0.98      1028\n",
      "           8       0.96      0.97      0.97       974\n",
      "           9       0.98      0.96      0.97      1009\n",
      "\n",
      "    accuracy                           0.98     10000\n",
      "   macro avg       0.98      0.98      0.98     10000\n",
      "weighted avg       0.98      0.98      0.98     10000\n",
      "\n"
     ]
    },
    {
     "name": "stderr",
     "output_type": "stream",
     "text": [
      "/home/makama/anaconda3/envs/app/lib/python3.6/site-packages/tensorflow/python/keras/engine/sequential.py:450: UserWarning: `model.predict_classes()` is deprecated and will be removed after 2021-01-01. Please use instead:* `np.argmax(model.predict(x), axis=-1)`,   if your model does multi-class classification   (e.g. if it uses a `softmax` last-layer activation).* `(model.predict(x) > 0.5).astype(\"int32\")`,   if your model does binary classification   (e.g. if it uses a `sigmoid` last-layer activation).\n",
      "  warnings.warn('`model.predict_classes()` is deprecated and '\n"
     ]
    }
   ],
   "source": [
    "y_pred = model.predict_classes(x_test)\n",
    "cls_report = classification_report(y_test, y_pred)\n",
    "\n",
    "for i in range(9):\n",
    "    print(f\"Class {i}: Digit {i}\")\n",
    "print(cls_report)"
   ]
  },
  {
   "cell_type": "code",
   "execution_count": null,
   "metadata": {},
   "outputs": [],
   "source": []
  },
  {
   "cell_type": "code",
   "execution_count": null,
   "metadata": {},
   "outputs": [],
   "source": []
  }
 ],
 "metadata": {
  "colab": {
   "authorship_tag": "ABX9TyPG4pWaTqZ2bN3Umy+dFjDp",
   "collapsed_sections": [],
   "name": "mnist.ipynb",
   "provenance": []
  },
  "kernelspec": {
   "display_name": "Python 3",
   "language": "python",
   "name": "python3"
  },
  "language_info": {
   "codemirror_mode": {
    "name": "ipython",
    "version": 3
   },
   "file_extension": ".py",
   "mimetype": "text/x-python",
   "name": "python",
   "nbconvert_exporter": "python",
   "pygments_lexer": "ipython3",
   "version": "3.8.10"
  }
 },
 "nbformat": 4,
 "nbformat_minor": 4
}
