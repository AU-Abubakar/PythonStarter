{
 "cells": [
  {
   "cell_type": "code",
   "execution_count": null,
   "metadata": {},
   "outputs": [],
   "source": [
    "# !pip install gradio"
   ]
  },
  {
   "cell_type": "code",
   "execution_count": 1,
   "metadata": {},
   "outputs": [],
   "source": [
    "import gradio as gr"
   ]
  },
  {
   "cell_type": "code",
   "execution_count": 2,
   "metadata": {},
   "outputs": [
    {
     "name": "stdout",
     "output_type": "stream",
     "text": [
      "2.7.5.2\n"
     ]
    }
   ],
   "source": [
    "# check the version of gradio\n",
    "print(gr.__version__)"
   ]
  },
  {
   "cell_type": "code",
   "execution_count": 3,
   "metadata": {},
   "outputs": [
    {
     "name": "stderr",
     "output_type": "stream",
     "text": [
      "/home/makama/.local/lib/python3.8/site-packages/gradio/interface.py:272: UserWarning: 'darkhuggingface' theme name is deprecated, using dark-huggingface instead.\n",
      "  warnings.warn(\n"
     ]
    },
    {
     "name": "stdout",
     "output_type": "stream",
     "text": [
      "Running on local URL:  http://127.0.0.1:7860/\n",
      "\n",
      "To create a public link, set `share=True` in `launch()`.\n"
     ]
    },
    {
     "data": {
      "text/html": [
       "\n",
       "        <iframe\n",
       "            width=\"900\"\n",
       "            height=\"500\"\n",
       "            src=\"http://127.0.0.1:7860/\"\n",
       "            frameborder=\"0\"\n",
       "            allowfullscreen\n",
       "        ></iframe>\n",
       "        "
      ],
      "text/plain": [
       "<IPython.lib.display.IFrame at 0x7f05f3bb5d60>"
      ]
     },
     "metadata": {},
     "output_type": "display_data"
    }
   ],
   "source": [
    "#define a function to process your input and output\n",
    "def greet(fname ,lname):\n",
    "   return \"Hello 👋: \" + fname + \" \" + lname + \"!\"\n",
    "\n",
    "#create two variables to collect the names\n",
    "firstName = gr.inputs.Textbox(placeholder=\"Enter First Name\")\n",
    "lastName = gr.inputs.Textbox(placeholder=\"Enter Last Name\")\n",
    "\n",
    "# create the variable to output the name\n",
    "name = gr.outputs.Textbox() \n",
    "\n",
    "#create interface\n",
    "gui = gr.Interface(fn=greet,\n",
    "                   inputs=[firstName, lastName],\n",
    "                   outputs=[name],\n",
    "                  title=\"A Greeting App\",\n",
    "                  description=\"This app asks a user to provide their first and last names for them to be greeted by a robot!\",\n",
    "                  theme='darkhuggingface').launch()\n"
   ]
  },
  {
   "cell_type": "code",
   "execution_count": null,
   "metadata": {},
   "outputs": [],
   "source": []
  }
 ],
 "metadata": {
  "interpreter": {
   "hash": "000b316aeb697bb54ce3f53f07bbd8403bced02910a834d3b44f804bf56dc77c"
  },
  "kernelspec": {
   "display_name": "Python 3",
   "language": "python",
   "name": "python3"
  },
  "language_info": {
   "codemirror_mode": {
    "name": "ipython",
    "version": 3
   },
   "file_extension": ".py",
   "mimetype": "text/x-python",
   "name": "python",
   "nbconvert_exporter": "python",
   "pygments_lexer": "ipython3",
   "version": "3.8.10"
  }
 },
 "nbformat": 4,
 "nbformat_minor": 4
}
