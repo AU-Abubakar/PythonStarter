{
 "cells": [
  {
   "cell_type": "code",
   "execution_count": 1,
   "metadata": {},
   "outputs": [],
   "source": [
    "import gradio as gr\n",
    "import tensorflow as tf\n",
    "import numpy as np\n",
    "from PIL import Image\n",
    "import requests"
   ]
  },
  {
   "cell_type": "code",
   "execution_count": 2,
   "metadata": {},
   "outputs": [],
   "source": [
    "# Download human-readable labels for ImageNet.\n",
    "response = requests.get(\"https://git.io/JJkYN\")\n",
    "labels = response.text.split(\"\\n\")"
   ]
  },
  {
   "cell_type": "code",
   "execution_count": 3,
   "metadata": {},
   "outputs": [
    {
     "name": "stdout",
     "output_type": "stream",
     "text": [
      "1001\n"
     ]
    }
   ],
   "source": [
    "print(len(labels))"
   ]
  },
  {
   "cell_type": "code",
   "execution_count": 4,
   "metadata": {},
   "outputs": [],
   "source": [
    "# Download the weights of the model trained on ImageNet.\n",
    "mobile_net = tf.keras.applications.MobileNetV2()"
   ]
  },
  {
   "cell_type": "code",
   "execution_count": 5,
   "metadata": {},
   "outputs": [],
   "source": [
    "def classify_image_with_mobile_net(im):\n",
    "    im = Image.fromarray(im.astype('uint8'), 'RGB')\n",
    "    im = im.resize((224, 224))\n",
    "    arr = np.array(im).reshape((-1, 224, 224, 3))\n",
    "    arr = tf.keras.applications.mobilenet.preprocess_input(arr)\n",
    "    prediction = mobile_net.predict(arr).flatten()\n",
    "    return {labels[i]: float(prediction[i]) for i in range(1000)}\n",
    "    "
   ]
  },
  {
   "cell_type": "code",
   "execution_count": 6,
   "metadata": {},
   "outputs": [],
   "source": [
    "imagein = gr.inputs.Image()\n",
    "label = gr.outputs.Label(num_top_classes=3)\n",
    "sample_images = [\n",
    "                 [\"images/monkey.jpg\"],\n",
    "                 [\"images/cat.jpg\"],\n",
    "                 [\"images/eagle.jpg\"],\n",
    "                 [\"images/monkey.jpg\"],\n",
    "                 [\"images/dog.jpg\"],\n",
    "                 [\"images/palace.jpg\"],\n",
    "                 [\"images/bird.jpg\"],\n",
    "                 [\"images/plane.jpg\"],\n",
    "                 [\"images/masa.jpg\"],\n",
    "                 [\"images/bird_breed.jpg\"]\n",
    "]"
   ]
  },
  {
   "cell_type": "code",
   "execution_count": 7,
   "metadata": {},
   "outputs": [
    {
     "name": "stdout",
     "output_type": "stream",
     "text": [
      "Running on local URL:  http://127.0.0.1:7860/\n",
      "\n",
      "To create a public link, set `share=True` in `launch()`.\n"
     ]
    },
    {
     "data": {
      "text/html": [
       "\n",
       "        <iframe\n",
       "            width=\"900\"\n",
       "            height=\"500\"\n",
       "            src=\"http://127.0.0.1:7860/\"\n",
       "            frameborder=\"0\"\n",
       "            allowfullscreen\n",
       "        ></iframe>\n",
       "        "
      ],
      "text/plain": [
       "<IPython.lib.display.IFrame at 0x7f6bd40f0ee0>"
      ]
     },
     "metadata": {},
     "output_type": "display_data"
    },
    {
     "data": {
      "text/plain": [
       "(<fastapi.applications.FastAPI at 0x7f6c3f1c3eb0>,\n",
       " 'http://127.0.0.1:7860/',\n",
       " None)"
      ]
     },
     "execution_count": 7,
     "metadata": {},
     "output_type": "execute_result"
    }
   ],
   "source": [
    "# Buiding the UI\n",
    "\n",
    "gr.Interface(\n",
    "    [classify_image_with_mobile_net],\n",
    "    imagein,\n",
    "    label,\n",
    "    title=\"MobileNetV2\",\n",
    "    description=\"\"\"MobileNetV2 is a light weight model for edge devises. It's very similar to the original MobileNet. \n",
    "    It supports any input size greater than 32 x 32, with larger image sizes offering better performance.\"\"\",\n",
    "examples=sample_images, interpretation='default', theme='dark-huggingface').launch()"
   ]
  },
  {
   "cell_type": "code",
   "execution_count": null,
   "metadata": {},
   "outputs": [],
   "source": []
  }
 ],
 "metadata": {
  "interpreter": {
   "hash": "000b316aeb697bb54ce3f53f07bbd8403bced02910a834d3b44f804bf56dc77c"
  },
  "kernelspec": {
   "display_name": "Python 3",
   "language": "python",
   "name": "python3"
  },
  "language_info": {
   "codemirror_mode": {
    "name": "ipython",
    "version": 3
   },
   "file_extension": ".py",
   "mimetype": "text/x-python",
   "name": "python",
   "nbconvert_exporter": "python",
   "pygments_lexer": "ipython3",
   "version": "3.8.10"
  }
 },
 "nbformat": 4,
 "nbformat_minor": 4
}
